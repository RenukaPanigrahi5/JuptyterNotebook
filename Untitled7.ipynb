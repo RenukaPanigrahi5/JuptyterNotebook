{
 "cells": [
  {
   "cell_type": "code",
   "execution_count": 1,
   "metadata": {},
   "outputs": [],
   "source": [
    "import numpy as np\n",
    "from matplotlib import pyplot as plt"
   ]
  },
  {
   "cell_type": "code",
   "execution_count": 5,
   "metadata": {},
   "outputs": [
    {
     "data": {
      "text/plain": [
       "array([[0.639, 0.099, 0.   ],\n",
       "       [0.025, 0.686, 0.   ],\n",
       "       [0.275, 0.544, 0.   ],\n",
       "       ...,\n",
       "       [0.55 , 0.062, 0.   ],\n",
       "       [0.455, 0.138, 0.   ],\n",
       "       [0.315, 0.207, 0.   ]])"
      ]
     },
     "execution_count": 5,
     "metadata": {},
     "output_type": "execute_result"
    }
   ],
   "source": [
    "data=np.genfromtxt('trainData.csv',delimiter=\",\", skip_header=1)\n",
    "data"
   ]
  },
  {
   "cell_type": "code",
   "execution_count": 7,
   "metadata": {},
   "outputs": [],
   "source": [
    "hist,bin_edges= np.histogram(data, bins=100)"
   ]
  },
  {
   "cell_type": "code",
   "execution_count": 8,
   "metadata": {},
   "outputs": [
    {
     "data": {
      "text/plain": [
       "array([283,  11,  21,   6,  14,  15,  16,  22,  16,  16,  15,  14,  20,\n",
       "        15,  11,  16,  12,  14,   8,  15,   9,  23,  18,  11,  15,  15,\n",
       "        18,  19,  16,  10,  21,  15,  16,  21,  17,   8,  12,  17,   9,\n",
       "        12,  14,   9,  20,  16,  14,  22,  13,  14,  11,  15,  19,  13,\n",
       "        15,  17,  16,  17,  15,  14,  15,   9,  20,  15,  14,  20,  15,\n",
       "        19,  15,  19,  14,  15,  16,  10,  18,  14,  15,  13,  22,  16,\n",
       "        15,  16,  17,  17,  12,  17,  17,  16,  20,  16,  10,  13,  12,\n",
       "         6,  13,  14,  19,   9,  16,  13,  13, 499])"
      ]
     },
     "execution_count": 8,
     "metadata": {},
     "output_type": "execute_result"
    }
   ],
   "source": [
    "hist"
   ]
  },
  {
   "cell_type": "code",
   "execution_count": 9,
   "metadata": {},
   "outputs": [
    {
     "data": {
      "text/plain": [
       "array([0.  , 0.01, 0.02, 0.03, 0.04, 0.05, 0.06, 0.07, 0.08, 0.09, 0.1 ,\n",
       "       0.11, 0.12, 0.13, 0.14, 0.15, 0.16, 0.17, 0.18, 0.19, 0.2 , 0.21,\n",
       "       0.22, 0.23, 0.24, 0.25, 0.26, 0.27, 0.28, 0.29, 0.3 , 0.31, 0.32,\n",
       "       0.33, 0.34, 0.35, 0.36, 0.37, 0.38, 0.39, 0.4 , 0.41, 0.42, 0.43,\n",
       "       0.44, 0.45, 0.46, 0.47, 0.48, 0.49, 0.5 , 0.51, 0.52, 0.53, 0.54,\n",
       "       0.55, 0.56, 0.57, 0.58, 0.59, 0.6 , 0.61, 0.62, 0.63, 0.64, 0.65,\n",
       "       0.66, 0.67, 0.68, 0.69, 0.7 , 0.71, 0.72, 0.73, 0.74, 0.75, 0.76,\n",
       "       0.77, 0.78, 0.79, 0.8 , 0.81, 0.82, 0.83, 0.84, 0.85, 0.86, 0.87,\n",
       "       0.88, 0.89, 0.9 , 0.91, 0.92, 0.93, 0.94, 0.95, 0.96, 0.97, 0.98,\n",
       "       0.99, 1.  ])"
      ]
     },
     "execution_count": 9,
     "metadata": {},
     "output_type": "execute_result"
    }
   ],
   "source": [
    "bin_edges"
   ]
  },
  {
   "cell_type": "code",
   "execution_count": 10,
   "metadata": {},
   "outputs": [
    {
     "data": {
      "text/plain": [
       "([array([ 9.,  6., 11.,  2.,  4.,  8.,  3., 12.,  9.,  9., 10.,  6., 12.,\n",
       "          4.,  2.,  8.,  5.,  7.,  5.,  9.,  5., 16., 14.,  7.,  8.,  7.,\n",
       "         14., 13.,  6.,  5., 11.,  8.,  5., 10.,  6.,  1.,  2.,  9.,  3.,\n",
       "          5.,  9.,  4., 14.,  9.,  5.,  9.,  7.,  8.,  6.,  5.,  6.,  5.,\n",
       "          5., 12.,  9.,  9.,  5.,  6., 10.,  4.,  9.,  7.,  8., 11.,  7.,\n",
       "          9.,  7., 11.,  4., 11.,  9.,  6.,  7.,  6.,  9.,  8.,  9.,  5.,\n",
       "          7.,  7.,  7.,  7.,  5.,  8.,  6., 10., 11.,  9.,  6.,  7.,  7.,\n",
       "          3.,  5., 10.,  9.,  7.,  9.,  6.,  6., 12.]),\n",
       "  array([ 5.,  5., 10.,  4., 10.,  7., 13., 10.,  7.,  7.,  5.,  8.,  8.,\n",
       "         11.,  9.,  8.,  7.,  7.,  3.,  6.,  4.,  7.,  4.,  4.,  7.,  8.,\n",
       "          4.,  6., 10.,  5., 10.,  7., 11., 11., 11.,  7., 10.,  8.,  6.,\n",
       "          7.,  5.,  5.,  6.,  7.,  9., 13.,  6.,  6.,  5., 10., 13.,  8.,\n",
       "         10.,  5.,  7.,  8., 10.,  8.,  5.,  5., 11.,  8.,  6.,  9.,  8.,\n",
       "         10.,  8.,  8., 10.,  4.,  7.,  4., 11.,  8.,  6.,  5., 13., 11.,\n",
       "          8.,  9., 10., 10.,  7.,  9., 11.,  6.,  9.,  7.,  4.,  6.,  5.,\n",
       "          3.,  8.,  4., 10.,  2.,  7.,  7.,  7.,  6.]),\n",
       "  array([269.,   0.,   0.,   0.,   0.,   0.,   0.,   0.,   0.,   0.,   0.,\n",
       "           0.,   0.,   0.,   0.,   0.,   0.,   0.,   0.,   0.,   0.,   0.,\n",
       "           0.,   0.,   0.,   0.,   0.,   0.,   0.,   0.,   0.,   0.,   0.,\n",
       "           0.,   0.,   0.,   0.,   0.,   0.,   0.,   0.,   0.,   0.,   0.,\n",
       "           0.,   0.,   0.,   0.,   0.,   0.,   0.,   0.,   0.,   0.,   0.,\n",
       "           0.,   0.,   0.,   0.,   0.,   0.,   0.,   0.,   0.,   0.,   0.,\n",
       "           0.,   0.,   0.,   0.,   0.,   0.,   0.,   0.,   0.,   0.,   0.,\n",
       "           0.,   0.,   0.,   0.,   0.,   0.,   0.,   0.,   0.,   0.,   0.,\n",
       "           0.,   0.,   0.,   0.,   0.,   0.,   0.,   0.,   0.,   0.,   0.,\n",
       "         481.])],\n",
       " array([0.  , 0.01, 0.02, 0.03, 0.04, 0.05, 0.06, 0.07, 0.08, 0.09, 0.1 ,\n",
       "        0.11, 0.12, 0.13, 0.14, 0.15, 0.16, 0.17, 0.18, 0.19, 0.2 , 0.21,\n",
       "        0.22, 0.23, 0.24, 0.25, 0.26, 0.27, 0.28, 0.29, 0.3 , 0.31, 0.32,\n",
       "        0.33, 0.34, 0.35, 0.36, 0.37, 0.38, 0.39, 0.4 , 0.41, 0.42, 0.43,\n",
       "        0.44, 0.45, 0.46, 0.47, 0.48, 0.49, 0.5 , 0.51, 0.52, 0.53, 0.54,\n",
       "        0.55, 0.56, 0.57, 0.58, 0.59, 0.6 , 0.61, 0.62, 0.63, 0.64, 0.65,\n",
       "        0.66, 0.67, 0.68, 0.69, 0.7 , 0.71, 0.72, 0.73, 0.74, 0.75, 0.76,\n",
       "        0.77, 0.78, 0.79, 0.8 , 0.81, 0.82, 0.83, 0.84, 0.85, 0.86, 0.87,\n",
       "        0.88, 0.89, 0.9 , 0.91, 0.92, 0.93, 0.94, 0.95, 0.96, 0.97, 0.98,\n",
       "        0.99, 1.  ]),\n",
       " <a list of 3 Lists of Patches objects>)"
      ]
     },
     "execution_count": 10,
     "metadata": {},
     "output_type": "execute_result"
    },
    {
     "data": {
      "image/png": "[encoded data removed]",
      "text/plain": [
       "<Figure size 432x288 with 1 Axes>"
      ]
     },
     "metadata": {
      "needs_background": "light"
     },
     "output_type": "display_data"
    }
   ],
   "source": [
    "plt.hist(data, bins=100)"
   ]
  },
  {
   "cell_type": "code",
   "execution_count": 12,
   "metadata": {},
   "outputs": [
    {
     "data": {
      "text/plain": [
       "([array([73., 68., 97., 58., 76., 72., 83., 73., 76., 74.]),\n",
       "  array([78., 72., 60., 87., 72., 80., 81., 82., 79., 59.]),\n",
       "  array([269.,   0.,   0.,   0.,   0.,   0.,   0.,   0.,   0., 481.])],\n",
       " array([0. , 0.1, 0.2, 0.3, 0.4, 0.5, 0.6, 0.7, 0.8, 0.9, 1. ]),\n",
       " <a list of 3 Lists of Patches objects>)"
      ]
     },
     "execution_count": 12,
     "metadata": {},
     "output_type": "execute_result"
    },
    {
     "data": {
      "image/png": "[encoded data removed]",
      "text/plain": [
       "<Figure size 432x288 with 1 Axes>"
      ]
     },
     "metadata": {
      "needs_background": "light"
     },
     "output_type": "display_data"
    }
   ],
   "source": [
    "plt.hist(data, bins=10)"
   ]
  },
  {
   "cell_type": "code",
   "execution_count": null,
   "metadata": {},
   "outputs": [],
   "source": []
  }
 ],
 "metadata": {
  "kernelspec": {
   "display_name": "Python 3",
   "language": "python",
   "name": "python3"
  },
  "language_info": {
   "codemirror_mode": {
    "name": "ipython",
    "version": 3
   },
   "file_extension": ".py",
   "mimetype": "text/x-python",
   "name": "python",
   "nbconvert_exporter": "python",
   "pygments_lexer": "ipython3",
   "version": "3.7.4"
  }
 },
 "nbformat": 4,
 "nbformat_minor": 2
}

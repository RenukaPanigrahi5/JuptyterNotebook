{
 "cells": [
  {
   "cell_type": "code",
   "execution_count": 1,
   "metadata": {},
   "outputs": [],
   "source": [
    "import numpy as np\n",
    "import sklearn as sk\n",
    "import matplotlib.pyplot as plt"
   ]
  },
  {
   "cell_type": "code",
   "execution_count": 2,
   "metadata": {},
   "outputs": [],
   "source": [
    "from sklearn import linear_model"
   ]
  },
  {
   "cell_type": "code",
   "execution_count": 8,
   "metadata": {},
   "outputs": [],
   "source": [
    "##Read data\n",
    "data=np.genfromtxt('cigarettes_multi_regression.csv', delimiter=',',skip_header=1)"
   ]
  },
  {
   "cell_type": "code",
   "execution_count": 46,
   "metadata": {},
   "outputs": [
    {
     "data": {
      "text/plain": [
       "array([[14.1],\n",
       "       [16. ],\n",
       "       [29.8],\n",
       "       [ 8. ],\n",
       "       [ 4.1],\n",
       "       [15. ],\n",
       "       [ 8.8],\n",
       "       [12.4],\n",
       "       [16.6],\n",
       "       [14.9],\n",
       "       [13.7],\n",
       "       [15.1],\n",
       "       [ 7.8],\n",
       "       [11.4],\n",
       "       [ 9. ],\n",
       "       [ 1. ],\n",
       "       [17. ],\n",
       "       [12.8],\n",
       "       [15.8],\n",
       "       [ 4.5],\n",
       "       [14.5],\n",
       "       [ 7.3],\n",
       "       [ 8.6],\n",
       "       [15.2],\n",
       "       [12. ]])"
      ]
     },
     "execution_count": 46,
     "metadata": {},
     "output_type": "execute_result"
    }
   ],
   "source": [
    "X = data[:,1:2]  ## Tar Contents\n",
    "X"
   ]
  },
  {
   "cell_type": "code",
   "execution_count": 47,
   "metadata": {},
   "outputs": [
    {
     "data": {
      "text/plain": [
       "(25, 1)"
      ]
     },
     "execution_count": 47,
     "metadata": {},
     "output_type": "execute_result"
    }
   ],
   "source": [
    "X.shape"
   ]
  },
  {
   "cell_type": "code",
   "execution_count": 51,
   "metadata": {},
   "outputs": [
    {
     "data": {
      "text/plain": [
       "array([0.86, 1.06, 2.03, 0.67, 0.4 , 1.04, 0.76, 0.95, 1.12, 1.02, 1.01,\n",
       "       0.9 , 0.57, 0.78, 0.74, 0.13, 1.26, 1.08, 0.96, 0.42, 1.01, 0.61,\n",
       "       0.69, 1.02, 0.82])"
      ]
     },
     "execution_count": 51,
     "metadata": {},
     "output_type": "execute_result"
    }
   ],
   "source": [
    "Y = data[:,2] ### Nicotine Contents\n",
    "Y"
   ]
  },
  {
   "cell_type": "code",
   "execution_count": 52,
   "metadata": {},
   "outputs": [
    {
     "data": {
      "text/plain": [
       "(25,)"
      ]
     },
     "execution_count": 52,
     "metadata": {},
     "output_type": "execute_result"
    }
   ],
   "source": [
    "Y.shape"
   ]
  },
  {
   "cell_type": "code",
   "execution_count": 53,
   "metadata": {},
   "outputs": [
    {
     "data": {
      "text/plain": [
       "array([13.6, 16.6, 23.5, 10.2,  5.4, 15. ,  9. , 12.3, 16.3, 15.4, 13. ,\n",
       "       14.4, 10. , 10.2,  9.5,  1.5, 18.5, 12.6, 17.5,  4.9, 15.9,  8.5,\n",
       "       10.6, 13.9, 14.9])"
      ]
     },
     "execution_count": 53,
     "metadata": {},
     "output_type": "execute_result"
    }
   ],
   "source": [
    "Z = data[:,4] ### CO contents\n",
    "Z"
   ]
  },
  {
   "cell_type": "code",
   "execution_count": 54,
   "metadata": {},
   "outputs": [
    {
     "data": {
      "text/plain": [
       "(25,)"
      ]
     },
     "execution_count": 54,
     "metadata": {},
     "output_type": "execute_result"
    }
   ],
   "source": [
    "Z.shape"
   ]
  },
  {
   "cell_type": "code",
   "execution_count": 56,
   "metadata": {},
   "outputs": [
    {
     "data": {
      "text/plain": [
       "array([[14.1],\n",
       "       [16. ],\n",
       "       [29.8],\n",
       "       [ 8. ],\n",
       "       [ 4.1],\n",
       "       [15. ],\n",
       "       [ 8.8],\n",
       "       [12.4],\n",
       "       [16.6],\n",
       "       [14.9],\n",
       "       [13.7],\n",
       "       [15.1],\n",
       "       [ 7.8],\n",
       "       [11.4],\n",
       "       [ 9. ],\n",
       "       [ 1. ],\n",
       "       [17. ],\n",
       "       [12.8],\n",
       "       [15.8],\n",
       "       [ 4.5],\n",
       "       [14.5],\n",
       "       [ 7.3],\n",
       "       [ 8.6],\n",
       "       [15.2],\n",
       "       [12. ]])"
      ]
     },
     "execution_count": 56,
     "metadata": {},
     "output_type": "execute_result"
    }
   ],
   "source": [
    "X = data[:,1:2].reshape(-1, 1)  ## Tar Contents\n",
    "X"
   ]
  },
  {
   "cell_type": "code",
   "execution_count": 57,
   "metadata": {},
   "outputs": [
    {
     "data": {
      "text/plain": [
       "(25, 1)"
      ]
     },
     "execution_count": 57,
     "metadata": {},
     "output_type": "execute_result"
    }
   ],
   "source": [
    "X.shape"
   ]
  },
  {
   "cell_type": "code",
   "execution_count": 58,
   "metadata": {},
   "outputs": [
    {
     "data": {
      "text/plain": [
       "array([[0.86],\n",
       "       [1.06],\n",
       "       [2.03],\n",
       "       [0.67],\n",
       "       [0.4 ],\n",
       "       [1.04],\n",
       "       [0.76],\n",
       "       [0.95],\n",
       "       [1.12],\n",
       "       [1.02],\n",
       "       [1.01],\n",
       "       [0.9 ],\n",
       "       [0.57],\n",
       "       [0.78],\n",
       "       [0.74],\n",
       "       [0.13],\n",
       "       [1.26],\n",
       "       [1.08],\n",
       "       [0.96],\n",
       "       [0.42],\n",
       "       [1.01],\n",
       "       [0.61],\n",
       "       [0.69],\n",
       "       [1.02],\n",
       "       [0.82]])"
      ]
     },
     "execution_count": 58,
     "metadata": {},
     "output_type": "execute_result"
    }
   ],
   "source": [
    "Y = data[:,2].reshape(-1,1) ### Nicotine Contents\n",
    "Y"
   ]
  },
  {
   "cell_type": "code",
   "execution_count": 59,
   "metadata": {},
   "outputs": [
    {
     "data": {
      "text/plain": [
       "(25, 1)"
      ]
     },
     "execution_count": 59,
     "metadata": {},
     "output_type": "execute_result"
    }
   ],
   "source": [
    "Y.shape"
   ]
  },
  {
   "cell_type": "code",
   "execution_count": 60,
   "metadata": {},
   "outputs": [
    {
     "data": {
      "text/plain": [
       "array([[13.6],\n",
       "       [16.6],\n",
       "       [23.5],\n",
       "       [10.2],\n",
       "       [ 5.4],\n",
       "       [15. ],\n",
       "       [ 9. ],\n",
       "       [12.3],\n",
       "       [16.3],\n",
       "       [15.4],\n",
       "       [13. ],\n",
       "       [14.4],\n",
       "       [10. ],\n",
       "       [10.2],\n",
       "       [ 9.5],\n",
       "       [ 1.5],\n",
       "       [18.5],\n",
       "       [12.6],\n",
       "       [17.5],\n",
       "       [ 4.9],\n",
       "       [15.9],\n",
       "       [ 8.5],\n",
       "       [10.6],\n",
       "       [13.9],\n",
       "       [14.9]])"
      ]
     },
     "execution_count": 60,
     "metadata": {},
     "output_type": "execute_result"
    }
   ],
   "source": [
    "Z = data[:,4].reshape(-1,1)  ### CO contents\n",
    "Z"
   ]
  },
  {
   "cell_type": "code",
   "execution_count": 61,
   "metadata": {},
   "outputs": [
    {
     "data": {
      "text/plain": [
       "(25, 1)"
      ]
     },
     "execution_count": 61,
     "metadata": {},
     "output_type": "execute_result"
    }
   ],
   "source": [
    "Z.shape"
   ]
  },
  {
   "cell_type": "code",
   "execution_count": 71,
   "metadata": {},
   "outputs": [
    {
     "data": {
      "text/plain": [
       "LinearRegression(copy_X=True, fit_intercept=True, n_jobs=None, normalize=False)"
      ]
     },
     "execution_count": 71,
     "metadata": {},
     "output_type": "execute_result"
    }
   ],
   "source": [
    "reg = linear_model.LinearRegression()\n",
    "reg.fit(X,Y)\n",
    "reg.fit(Y,Z)"
   ]
  },
  {
   "cell_type": "code",
   "execution_count": 72,
   "metadata": {},
   "outputs": [
    {
     "data": {
      "text/plain": [
       "array([1.66466647])"
      ]
     },
     "execution_count": 72,
     "metadata": {},
     "output_type": "execute_result"
    }
   ],
   "source": [
    "reg.intercept_   ### y = mx + B [B--intercept]"
   ]
  },
  {
   "cell_type": "code",
   "execution_count": 73,
   "metadata": {},
   "outputs": [
    {
     "data": {
      "text/plain": [
       "array([[12.39540567]])"
      ]
     },
     "execution_count": 73,
     "metadata": {},
     "output_type": "execute_result"
    }
   ],
   "source": [
    "reg.coef_   ### y = m1x1+m2x2+b [m1,m2]\n",
    "###reg.coef_"
   ]
  },
  {
   "cell_type": "code",
   "execution_count": 74,
   "metadata": {},
   "outputs": [
    {
     "data": {
      "text/plain": [
       "Text(0, 0.5, 'Z')"
      ]
     },
     "execution_count": 74,
     "metadata": {},
     "output_type": "execute_result"
    },
    {
     "data": {
      "image/png": "[encoded data removed]",
      "text/plain": [
       "<Figure size 432x288 with 1 Axes>"
      ]
     },
     "metadata": {
      "needs_background": "light"
     },
     "output_type": "display_data"
    }
   ],
   "source": [
    "plt.scatter(Y, Z, color=\"b\", label=\"data read-in\")\n",
    "plt.plot(Z, reg.predict(Z), color=\"black\", label=\"regression line\")\n",
    "plt.legend()\n",
    "plt.xlabel(\"Y\")\n",
    "plt.ylabel(\"Z\")"
   ]
  },
  {
   "cell_type": "code",
   "execution_count": null,
   "metadata": {},
   "outputs": [],
   "source": []
  }
 ],
 "metadata": {
  "kernelspec": {
   "display_name": "Python 3",
   "language": "python",
   "name": "python3"
  },
  "language_info": {
   "codemirror_mode": {
    "name": "ipython",
    "version": 3
   },
   "file_extension": ".py",
   "mimetype": "text/x-python",
   "name": "python",
   "nbconvert_exporter": "python",
   "pygments_lexer": "ipython3",
   "version": "3.7.4"
  }
 },
 "nbformat": 4,
 "nbformat_minor": 2
}

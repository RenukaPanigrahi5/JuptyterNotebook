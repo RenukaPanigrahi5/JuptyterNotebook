{
 "cells": [
  {
   "cell_type": "markdown",
   "metadata": {},
   "source": [
    "# <center>Machine Learning – Fall 2019 (CPS 593/06)</center>"
   ]
  },
  {
   "cell_type": "markdown",
   "metadata": {},
   "source": [
    "## Time and location:"
   ]
  },
  {
   "cell_type": "code",
   "execution_count": null,
   "metadata": {},
   "outputs": [],
   "source": [
    "Lecture: MR 12.30 – 1.45 PM, SH 259"
   ]
  },
  {
   "cell_type": "markdown",
   "metadata": {},
   "source": [
    "## Pre-requisites:"
   ]
  },
  {
   "cell_type": "markdown",
   "metadata": {},
   "source": [
    "Permission of Instructor"
   ]
  },
  {
   "cell_type": "markdown",
   "metadata": {},
   "source": [
    "## Instructor"
   ]
  },
  {
   "cell_type": "markdown",
   "metadata": {},
   "source": [
    "Dr. Chirakkal Easwaran<br>\n",
    "Office Hours: Monday, Thursday 9 – 10.30; Wednesday:11-12; and by appointment.<br>\n",
    "Office: SH255<br>\n",
    "email: easwaran@newpaltz.edu<br>"
   ]
  },
  {
   "cell_type": "markdown",
   "metadata": {},
   "source": [
    "## Course description"
   ]
  },
  {
   "cell_type": "code",
   "execution_count": null,
   "metadata": {},
   "outputs": [],
   "source": [
    "Machine Learning is the discipline that tries to produce meaningful outputs from a computer without explicitly programming an algorithm to follow. For example, email spam classifiers and product recommendation systems are based on Machine Learning. Machine Learning purports to construct models of a phenomena by studying a variety of scenarios, and then use these models to predict an output response to future inputs. In this course we will study the most commonly used Machine Learning techniques, their implementation and applications. We will also learn (at some intuitive level) the mathematical and statistical principles underlying these techniques."
   ]
  },
  {
   "cell_type": "markdown",
   "metadata": {},
   "source": [
    "The following topics will be covered, not necessarily in this order:"
   ]
  },
  {
   "cell_type": "markdown",
   "metadata": {},
   "source": [
    "-  Supervised and Unsupervised Machine Learning\n",
    "-  What is not Machine Learning\n",
    "-  Python or R?\n",
    "-  Classification problems, classification techniques: Naive Bayes classifier, Support Vector Machines, Decision Trees, Random Forests, Boosting.\n",
    "-  Regression problems – theory and practice. Linear, polynomial, multi-variable and logistic regression\n",
    "-  Clustering algorithms\n",
    "-  Feature scaling and Feature selection\n",
    "-  Training, testing, cross-validation; parameter tuning\n",
    "-  Error metrics – accuracy of model predictions\n",
    "-  Neural Networks/Deep Learning (time permitting)\n",
    "-  Visual recognition, voice recognition (time permitting)"
   ]
  },
  {
   "cell_type": "markdown",
   "metadata": {},
   "source": [
    "## Student Learning Outcome"
   ]
  },
  {
   "cell_type": "markdown",
   "metadata": {},
   "source": [
    "Students will be able to:"
   ]
  },
  {
   "cell_type": "markdown",
   "metadata": {},
   "source": [
    "1. recognize situations that lend themselves to machine learning techniques, and\n",
    "2. implement and evaluate the most commonly used machine learning techniques."
   ]
  },
  {
   "cell_type": "markdown",
   "metadata": {},
   "source": [
    "## Text Book"
   ]
  },
  {
   "cell_type": "markdown",
   "metadata": {},
   "source": [
    "None. I will provide notes as necessary and post links to additional reading materials."
   ]
  }
 ],
 "metadata": {
  "celltoolbar": "Edit Metadata",
  "kernelspec": {
   "display_name": "Python 3",
   "language": "python",
   "name": "python3"
  },
  "language_info": {
   "codemirror_mode": {
    "name": "ipython",
    "version": 3
   },
   "file_extension": ".py",
   "mimetype": "text/x-python",
   "name": "python",
   "nbconvert_exporter": "python",
   "pygments_lexer": "ipython3",
   "version": "3.7.4"
  }
 },
 "nbformat": 4,
 "nbformat_minor": 2
}

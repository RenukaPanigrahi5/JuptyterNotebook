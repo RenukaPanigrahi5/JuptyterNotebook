{
 "cells": [
  {
   "cell_type": "code",
   "execution_count": 1,
   "metadata": {},
   "outputs": [],
   "source": [
    "import numpy as np\n",
    "import sklearn as sk\n",
    "import pandas as pd"
   ]
  },
  {
   "cell_type": "code",
   "execution_count": 2,
   "metadata": {},
   "outputs": [],
   "source": [
    "import matplotlib.pyplot as plt"
   ]
  },
  {
   "cell_type": "code",
   "execution_count": 3,
   "metadata": {},
   "outputs": [
    {
     "data": {
      "text/plain": [
       "array([[0.639, 0.099, 0.   ],\n",
       "       [0.025, 0.686, 0.   ],\n",
       "       [0.275, 0.544, 0.   ],\n",
       "       ...,\n",
       "       [0.55 , 0.062, 0.   ],\n",
       "       [0.455, 0.138, 0.   ],\n",
       "       [0.315, 0.207, 0.   ]])"
      ]
     },
     "execution_count": 3,
     "metadata": {},
     "output_type": "execute_result"
    }
   ],
   "source": [
    "##Read data\n",
    "data=np.genfromtxt('trainData.csv', delimiter=',', skip_header=1)\n",
    "data\n"
   ]
  },
  {
   "cell_type": "code",
   "execution_count": 4,
   "metadata": {},
   "outputs": [
    {
     "data": {
      "text/plain": [
       "(750, 3)"
      ]
     },
     "execution_count": 4,
     "metadata": {},
     "output_type": "execute_result"
    }
   ],
   "source": [
    "data.shape"
   ]
  },
  {
   "cell_type": "code",
   "execution_count": 5,
   "metadata": {},
   "outputs": [
    {
     "data": {
      "text/plain": [
       "array([[0.639, 0.099],\n",
       "       [0.025, 0.686],\n",
       "       [0.275, 0.544],\n",
       "       ...,\n",
       "       [0.55 , 0.062],\n",
       "       [0.455, 0.138],\n",
       "       [0.315, 0.207]])"
      ]
     },
     "execution_count": 5,
     "metadata": {},
     "output_type": "execute_result"
    }
   ],
   "source": [
    "X=data[:,range(2)]\n",
    "X"
   ]
  },
  {
   "cell_type": "code",
   "execution_count": 6,
   "metadata": {},
   "outputs": [
    {
     "data": {
      "text/plain": [
       "array([0., 0., 0., 1., 1., 1., 1., 0., 1., 0., 0., 1., 0., 0., 1., 0., 0.,\n",
       "       1., 1., 0., 1., 1., 1., 0., 1., 1., 0., 1., 1., 0., 1., 0., 1., 1.,\n",
       "       0., 1., 1., 1., 1., 0., 1., 0., 0., 1., 0., 0., 0., 1., 1., 0., 1.,\n",
       "       1., 1., 1., 1., 0., 0., 1., 0., 1., 1., 0., 0., 1., 1., 1., 0., 0.,\n",
       "       0., 1., 0., 1., 1., 0., 1., 1., 1., 1., 1., 0., 1., 0., 1., 1., 1.,\n",
       "       0., 1., 1., 0., 0., 1., 0., 1., 0., 0., 1., 1., 1., 1., 1., 0., 0.,\n",
       "       1., 1., 1., 1., 0., 1., 1., 1., 1., 0., 1., 0., 1., 1., 0., 1., 1.,\n",
       "       1., 1., 1., 1., 1., 0., 0., 1., 1., 1., 1., 1., 0., 1., 1., 1., 1.,\n",
       "       0., 0., 1., 0., 1., 0., 1., 1., 1., 1., 1., 1., 0., 0., 1., 1., 1.,\n",
       "       0., 0., 0., 0., 1., 1., 0., 0., 1., 0., 1., 1., 0., 0., 1., 0., 0.,\n",
       "       1., 0., 0., 1., 1., 1., 0., 1., 1., 1., 1., 1., 1., 1., 0., 0., 1.,\n",
       "       1., 0., 1., 1., 0., 0., 1., 0., 1., 1., 1., 1., 1., 1., 1., 1., 0.,\n",
       "       1., 0., 1., 0., 0., 1., 0., 1., 1., 1., 1., 1., 1., 1., 0., 0., 1.,\n",
       "       1., 1., 0., 0., 1., 1., 1., 0., 1., 0., 0., 1., 1., 0., 0., 1., 0.,\n",
       "       0., 1., 0., 1., 1., 1., 0., 1., 0., 1., 1., 1., 1., 1., 0., 1., 1.,\n",
       "       1., 1., 0., 0., 1., 1., 1., 0., 1., 1., 1., 1., 1., 1., 0., 1., 1.,\n",
       "       0., 1., 0., 0., 0., 1., 1., 1., 0., 0., 1., 0., 1., 1., 1., 1., 1.,\n",
       "       1., 0., 1., 1., 1., 1., 1., 1., 0., 0., 1., 1., 1., 1., 1., 0., 0.,\n",
       "       1., 1., 1., 1., 1., 0., 1., 0., 1., 1., 0., 1., 0., 1., 1., 1., 1.,\n",
       "       1., 0., 0., 0., 1., 1., 1., 1., 0., 1., 0., 1., 1., 0., 1., 1., 0.,\n",
       "       1., 0., 1., 0., 1., 1., 1., 1., 1., 0., 1., 1., 1., 1., 1., 0., 1.,\n",
       "       1., 1., 1., 0., 1., 1., 0., 1., 0., 1., 0., 0., 1., 0., 1., 1., 0.,\n",
       "       0., 0., 1., 1., 0., 1., 1., 1., 1., 1., 0., 0., 1., 1., 1., 1., 1.,\n",
       "       0., 0., 1., 1., 1., 1., 1., 0., 0., 1., 0., 1., 1., 1., 0., 1., 1.,\n",
       "       0., 1., 1., 0., 1., 0., 0., 0., 1., 0., 1., 0., 1., 1., 1., 1., 0.,\n",
       "       0., 1., 1., 1., 0., 0., 0., 0., 1., 1., 0., 0., 1., 1., 1., 0., 1.,\n",
       "       1., 1., 1., 1., 0., 1., 1., 1., 1., 0., 0., 1., 0., 1., 1., 0., 1.,\n",
       "       0., 0., 1., 1., 0., 0., 0., 1., 1., 1., 0., 1., 1., 1., 1., 1., 1.,\n",
       "       1., 0., 1., 1., 1., 0., 0., 1., 1., 1., 1., 1., 1., 0., 1., 0., 1.,\n",
       "       0., 1., 1., 0., 0., 1., 1., 1., 1., 0., 1., 0., 0., 0., 1., 0., 0.,\n",
       "       0., 1., 1., 1., 1., 1., 0., 0., 0., 1., 1., 0., 1., 1., 1., 1., 1.,\n",
       "       0., 0., 1., 0., 1., 1., 0., 1., 1., 1., 1., 0., 0., 1., 1., 0., 0.,\n",
       "       1., 1., 1., 1., 1., 0., 1., 1., 0., 0., 1., 1., 0., 1., 1., 1., 1.,\n",
       "       1., 0., 0., 1., 1., 0., 1., 1., 1., 1., 1., 1., 1., 0., 1., 1., 1.,\n",
       "       0., 1., 0., 1., 1., 0., 1., 0., 1., 1., 0., 1., 1., 1., 0., 1., 1.,\n",
       "       1., 1., 0., 0., 1., 1., 1., 1., 1., 1., 1., 1., 1., 0., 0., 1., 1.,\n",
       "       1., 1., 1., 1., 1., 1., 1., 1., 1., 1., 0., 0., 0., 0., 0., 1., 0.,\n",
       "       1., 1., 1., 1., 1., 1., 0., 0., 0., 0., 0., 1., 0., 0., 0., 1., 1.,\n",
       "       1., 1., 0., 0., 0., 0., 1., 1., 1., 1., 0., 0., 1., 0., 1., 0., 1.,\n",
       "       0., 1., 1., 1., 0., 1., 1., 1., 1., 1., 1., 1., 1., 1., 1., 0., 0.,\n",
       "       1., 0., 0., 1., 0., 0., 1., 0., 1., 1., 1., 1., 0., 1., 1., 0., 0.,\n",
       "       1., 1., 1., 1., 1., 1., 0., 0., 1., 1., 0., 0., 1., 1., 1., 1., 1.,\n",
       "       1., 0., 1., 1., 1., 1., 0., 1., 1., 1., 1., 1., 1., 1., 0., 0., 1.,\n",
       "       1., 1., 0., 1., 0., 1., 0., 0., 0., 0., 1., 0., 1., 1., 1., 1., 0.,\n",
       "       0., 0.])"
      ]
     },
     "execution_count": 6,
     "metadata": {},
     "output_type": "execute_result"
    }
   ],
   "source": [
    "y=data[:,2]\n",
    "y"
   ]
  },
  {
   "cell_type": "code",
   "execution_count": 7,
   "metadata": {},
   "outputs": [
    {
     "data": {
      "text/plain": [
       "<matplotlib.collections.PathCollection at 0x12de15fd0>"
      ]
     },
     "execution_count": 7,
     "metadata": {},
     "output_type": "execute_result"
    },
    {
     "data": {
      "image/png": "[encoded data removed]",
      "text/plain": [
       "<Figure size 432x288 with 1 Axes>"
      ]
     },
     "metadata": {
      "needs_background": "light"
     },
     "output_type": "display_data"
    }
   ],
   "source": [
    "plt.scatter(X[:,0], X[:,1],c=y,s=70,cmap='winter')"
   ]
  },
  {
   "cell_type": "code",
   "execution_count": 8,
   "metadata": {},
   "outputs": [],
   "source": [
    "from sklearn.svm import SVC"
   ]
  },
  {
   "cell_type": "code",
   "execution_count": 78,
   "metadata": {},
   "outputs": [
    {
     "data": {
      "text/plain": [
       "SVC(C=100000000, cache_size=200, class_weight=None, coef0=0.0,\n",
       "    decision_function_shape='ovr', degree=3, gamma='auto_deprecated',\n",
       "    kernel='linear', max_iter=-1, probability=False, random_state=None,\n",
       "    shrinking=True, tol=0.001, verbose=False)"
      ]
     },
     "execution_count": 78,
     "metadata": {},
     "output_type": "execute_result"
    }
   ],
   "source": [
    "clf=SVC(kernel='linear', C=100000000)\n",
    "clf.fit(X,y)     ### high C hard boundaries"
   ]
  },
  {
   "cell_type": "code",
   "execution_count": 9,
   "metadata": {},
   "outputs": [
    {
     "data": {
      "text/plain": [
       "SVC(C=1000, cache_size=200, class_weight=None, coef0=0.0,\n",
       "    decision_function_shape='ovr', degree=3, gamma='scale', kernel='rbf',\n",
       "    max_iter=-1, probability=False, random_state=None, shrinking=True,\n",
       "    tol=0.001, verbose=False)"
      ]
     },
     "execution_count": 9,
     "metadata": {},
     "output_type": "execute_result"
    }
   ],
   "source": [
    "clf=SVC(kernel='rbf', C=1000, gamma='scale')\n",
    "clf.fit(X,y)"
   ]
  },
  {
   "cell_type": "code",
   "execution_count": 68,
   "metadata": {},
   "outputs": [],
   "source": [
    "clf=SVC(kernel='linear', C=1)\n",
    "     clf.fit(X,y)       ### low C soft boundaries"
   ]
  },
  {
   "cell_type": "code",
   "execution_count": 87,
   "metadata": {},
   "outputs": [],
   "source": [
    "clf=SVC(kernel='rbf', C=1)\n",
    "          ### low C soft boundaries"
   ]
  },
  {
   "cell_type": "code",
   "execution_count": 88,
   "metadata": {},
   "outputs": [
    {
     "name": "stderr",
     "output_type": "stream",
     "text": [
      "/Library/Frameworks/Python.framework/Versions/3.7/lib/python3.7/site-packages/sklearn/svm/base.py:193: FutureWarning: The default value of gamma will change from 'auto' to 'scale' in version 0.22 to account better for unscaled features. Set gamma explicitly to 'auto' or 'scale' to avoid this warning.\n",
      "  \"avoid this warning.\", FutureWarning)\n"
     ]
    },
    {
     "data": {
      "text/plain": [
       "SVC(C=1, cache_size=200, class_weight=None, coef0=0.0,\n",
       "    decision_function_shape='ovr', degree=3, gamma='auto_deprecated',\n",
       "    kernel='rbf', max_iter=-1, probability=False, random_state=None,\n",
       "    shrinking=True, tol=0.001, verbose=False)"
      ]
     },
     "execution_count": 88,
     "metadata": {},
     "output_type": "execute_result"
    }
   ],
   "source": [
    " clf.fit(X,y)"
   ]
  },
  {
   "cell_type": "code",
   "execution_count": 91,
   "metadata": {},
   "outputs": [
    {
     "data": {
      "text/plain": [
       "0.924"
      ]
     },
     "execution_count": 91,
     "metadata": {},
     "output_type": "execute_result"
    }
   ],
   "source": [
    "clf.score(X,y)"
   ]
  },
  {
   "cell_type": "code",
   "execution_count": 93,
   "metadata": {},
   "outputs": [
    {
     "data": {
      "text/plain": [
       "57"
      ]
     },
     "execution_count": 93,
     "metadata": {},
     "output_type": "execute_result"
    }
   ],
   "source": [
    "np.sum(clf.predict(X)!=y)"
   ]
  },
  {
   "cell_type": "code",
   "execution_count": 11,
   "metadata": {},
   "outputs": [
    {
     "data": {
      "image/png": "[encoded data removed]",
      "text/plain": [
       "<Figure size 432x288 with 1 Axes>"
      ]
     },
     "metadata": {
      "needs_background": "light"
     },
     "output_type": "display_data"
    }
   ],
   "source": [
    "h=.01\n",
    "x_min=0\n",
    "x_max=1\n",
    "y_min=0\n",
    "y_max=1\n",
    "xx, yy = np.meshgrid(np.arange(x_min, x_max, h), np.arange(y_min, y_max, h))\n",
    "Z = clf.predict(np.c_[xx.ravel(), yy.ravel()])\n",
    "Z = Z.reshape(xx.shape)\n",
    "plt.contour(xx, yy, Z, cmap='winter') #play around with cmap options to get different color maps\n",
    "plt.scatter(X[:,0], X[:,1],c=y,s=70,cmap='autumn')\n",
    "plt.show()"
   ]
  },
  {
   "cell_type": "code",
   "execution_count": 90,
   "metadata": {},
   "outputs": [
    {
     "data": {
      "text/plain": [
       "array([[0.97 , 0.662, 1.   ],\n",
       "       [0.404, 0.525, 1.   ],\n",
       "       [0.515, 0.314, 1.   ],\n",
       "       [0.988, 0.173, 1.   ],\n",
       "       [0.658, 0.912, 1.   ],\n",
       "       [0.543, 0.342, 1.   ],\n",
       "       [0.413, 0.354, 1.   ],\n",
       "       [0.188, 0.772, 1.   ],\n",
       "       [0.362, 0.721, 1.   ],\n",
       "       [0.756, 0.643, 1.   ],\n",
       "       [0.625, 0.693, 1.   ],\n",
       "       [0.76 , 0.61 , 1.   ],\n",
       "       [0.204, 0.192, 0.   ],\n",
       "       [0.549, 0.247, 1.   ],\n",
       "       [0.928, 0.558, 1.   ],\n",
       "       [0.438, 0.225, 0.   ],\n",
       "       [0.698, 0.973, 1.   ],\n",
       "       [0.121, 0.298, 0.   ],\n",
       "       [0.973, 0.289, 1.   ],\n",
       "       [0.609, 0.207, 0.   ],\n",
       "       [0.239, 0.705, 1.   ],\n",
       "       [0.158, 0.317, 0.   ],\n",
       "       [0.551, 0.349, 1.   ],\n",
       "       [0.552, 0.934, 1.   ],\n",
       "       [0.093, 0.795, 0.   ],\n",
       "       [0.992, 0.273, 1.   ],\n",
       "       [0.913, 0.122, 1.   ],\n",
       "       [0.461, 0.677, 1.   ],\n",
       "       [0.117, 0.38 , 0.   ],\n",
       "       [0.832, 0.98 , 1.   ],\n",
       "       [0.498, 0.818, 1.   ],\n",
       "       [0.717, 0.955, 1.   ],\n",
       "       [0.509, 0.805, 1.   ],\n",
       "       [0.273, 0.29 , 0.   ],\n",
       "       [0.835, 0.288, 1.   ],\n",
       "       [0.98 , 0.714, 1.   ],\n",
       "       [0.244, 0.346, 0.   ],\n",
       "       [0.551, 0.442, 1.   ],\n",
       "       [0.384, 0.256, 0.   ],\n",
       "       [0.922, 0.479, 1.   ],\n",
       "       [0.508, 0.202, 0.   ],\n",
       "       [0.879, 0.539, 1.   ],\n",
       "       [0.864, 0.933, 1.   ],\n",
       "       [0.276, 0.696, 1.   ],\n",
       "       [0.79 , 0.137, 0.   ],\n",
       "       [0.415, 0.616, 1.   ],\n",
       "       [0.934, 0.587, 1.   ],\n",
       "       [0.508, 0.242, 1.   ],\n",
       "       [0.821, 0.67 , 1.   ],\n",
       "       [0.283, 0.531, 0.   ],\n",
       "       [0.299, 0.638, 1.   ],\n",
       "       [0.587, 0.052, 0.   ],\n",
       "       [0.999, 0.413, 1.   ],\n",
       "       [0.49 , 0.717, 1.   ],\n",
       "       [0.149, 0.101, 0.   ],\n",
       "       [0.539, 0.771, 1.   ],\n",
       "       [0.345, 0.005, 0.   ],\n",
       "       [0.552, 0.55 , 1.   ],\n",
       "       [0.543, 0.929, 1.   ],\n",
       "       [0.455, 0.407, 0.   ],\n",
       "       [0.322, 0.935, 1.   ],\n",
       "       [0.189, 0.878, 1.   ],\n",
       "       [0.697, 0.477, 1.   ],\n",
       "       [0.572, 0.199, 0.   ],\n",
       "       [0.234, 0.964, 1.   ],\n",
       "       [0.776, 0.321, 1.   ],\n",
       "       [0.044, 0.646, 0.   ],\n",
       "       [0.745, 0.908, 1.   ],\n",
       "       [0.705, 0.089, 0.   ],\n",
       "       [0.811, 0.574, 1.   ],\n",
       "       [0.386, 0.535, 1.   ],\n",
       "       [0.664, 0.723, 1.   ],\n",
       "       [0.821, 0.937, 1.   ],\n",
       "       [0.981, 0.913, 1.   ],\n",
       "       [0.495, 0.175, 0.   ],\n",
       "       [0.037, 0.882, 1.   ],\n",
       "       [0.502, 0.176, 0.   ],\n",
       "       [0.59 , 0.92 , 1.   ],\n",
       "       [0.87 , 0.997, 1.   ],\n",
       "       [0.874, 0.397, 1.   ],\n",
       "       [0.44 , 0.495, 1.   ],\n",
       "       [0.526, 0.937, 1.   ],\n",
       "       [0.457, 0.962, 1.   ],\n",
       "       [0.722, 0.926, 1.   ],\n",
       "       [0.41 , 0.877, 1.   ],\n",
       "       [0.655, 0.009, 0.   ],\n",
       "       [0.154, 0.568, 0.   ],\n",
       "       [0.469, 0.107, 0.   ],\n",
       "       [0.969, 0.983, 1.   ],\n",
       "       [0.339, 0.285, 0.   ],\n",
       "       [0.693, 0.989, 1.   ],\n",
       "       [0.65 , 0.543, 1.   ],\n",
       "       [0.852, 0.494, 1.   ],\n",
       "       [0.852, 0.939, 1.   ],\n",
       "       [0.859, 0.851, 1.   ],\n",
       "       [0.38 , 0.468, 0.   ],\n",
       "       [0.317, 0.193, 0.   ],\n",
       "       [0.719, 0.113, 0.   ],\n",
       "       [0.759, 0.162, 0.   ],\n",
       "       [0.872, 0.459, 1.   ],\n",
       "       [0.036, 0.257, 0.   ],\n",
       "       [0.068, 0.186, 0.   ],\n",
       "       [0.631, 0.737, 1.   ],\n",
       "       [0.921, 0.791, 1.   ],\n",
       "       [0.997, 0.568, 1.   ],\n",
       "       [0.747, 0.757, 1.   ],\n",
       "       [0.434, 0.175, 0.   ],\n",
       "       [0.098, 0.856, 1.   ],\n",
       "       [0.634, 0.897, 1.   ],\n",
       "       [0.873, 0.827, 1.   ],\n",
       "       [0.444, 0.515, 1.   ],\n",
       "       [0.694, 0.087, 0.   ],\n",
       "       [0.903, 0.669, 1.   ],\n",
       "       [0.046, 0.185, 0.   ],\n",
       "       [0.796, 0.141, 0.   ],\n",
       "       [0.293, 0.324, 0.   ],\n",
       "       [0.375, 0.248, 0.   ],\n",
       "       [0.146, 0.261, 0.   ],\n",
       "       [0.531, 0.236, 0.   ],\n",
       "       [0.566, 0.754, 1.   ],\n",
       "       [0.793, 0.954, 1.   ],\n",
       "       [0.17 , 0.302, 0.   ],\n",
       "       [0.079, 0.723, 0.   ],\n",
       "       [0.871, 0.011, 1.   ],\n",
       "       [0.62 , 0.654, 1.   ],\n",
       "       [0.241, 0.693, 1.   ],\n",
       "       [0.913, 0.062, 1.   ],\n",
       "       [0.143, 0.118, 0.   ],\n",
       "       [0.461, 0.307, 0.   ],\n",
       "       [0.254, 0.405, 0.   ],\n",
       "       [0.255, 0.503, 0.   ],\n",
       "       [0.009, 0.895, 1.   ],\n",
       "       [0.805, 0.704, 1.   ],\n",
       "       [0.901, 0.311, 1.   ],\n",
       "       [0.678, 0.117, 0.   ],\n",
       "       [0.158, 0.916, 1.   ],\n",
       "       [0.442, 0.295, 0.   ],\n",
       "       [0.346, 0.615, 1.   ],\n",
       "       [0.588, 0.219, 1.   ],\n",
       "       [0.639, 0.134, 0.   ],\n",
       "       [0.424, 0.153, 0.   ],\n",
       "       [0.25 , 0.748, 1.   ],\n",
       "       [0.845, 0.606, 1.   ],\n",
       "       [0.199, 0.416, 0.   ],\n",
       "       [0.385, 0.549, 1.   ],\n",
       "       [0.483, 0.471, 1.   ],\n",
       "       [0.237, 0.538, 1.   ],\n",
       "       [0.572, 0.664, 1.   ],\n",
       "       [0.575, 0.218, 1.   ],\n",
       "       [0.993, 0.247, 1.   ],\n",
       "       [0.295, 0.755, 1.   ],\n",
       "       [0.978, 0.873, 1.   ],\n",
       "       [0.658, 0.082, 0.   ],\n",
       "       [0.274, 0.447, 0.   ],\n",
       "       [0.566, 0.704, 1.   ],\n",
       "       [0.686, 0.078, 0.   ],\n",
       "       [0.745, 0.564, 1.   ],\n",
       "       [0.049, 0.062, 0.   ],\n",
       "       [0.606, 0.548, 1.   ],\n",
       "       [0.497, 0.505, 1.   ],\n",
       "       [0.904, 0.573, 1.   ],\n",
       "       [0.286, 0.15 , 0.   ],\n",
       "       [0.799, 0.328, 1.   ],\n",
       "       [0.607, 0.52 , 1.   ],\n",
       "       [0.352, 0.116, 0.   ],\n",
       "       [0.637, 0.205, 1.   ],\n",
       "       [0.621, 0.583, 1.   ],\n",
       "       [0.678, 0.091, 0.   ],\n",
       "       [0.721, 0.51 , 1.   ],\n",
       "       [0.659, 0.809, 1.   ],\n",
       "       [0.838, 0.453, 1.   ],\n",
       "       [0.628, 0.513, 1.   ],\n",
       "       [0.903, 0.457, 1.   ],\n",
       "       [0.646, 0.058, 0.   ],\n",
       "       [0.309, 0.462, 1.   ],\n",
       "       [0.441, 0.807, 1.   ],\n",
       "       [0.58 , 0.723, 1.   ],\n",
       "       [0.732, 0.396, 1.   ],\n",
       "       [0.09 , 0.816, 1.   ],\n",
       "       [0.295, 0.746, 1.   ],\n",
       "       [0.747, 0.578, 1.   ],\n",
       "       [0.176, 0.045, 0.   ],\n",
       "       [0.132, 0.345, 0.   ],\n",
       "       [0.539, 0.064, 0.   ],\n",
       "       [0.971, 0.994, 1.   ],\n",
       "       [0.531, 0.935, 1.   ],\n",
       "       [0.913, 0.069, 1.   ],\n",
       "       [0.83 , 0.934, 1.   ],\n",
       "       [0.257, 0.032, 0.   ],\n",
       "       [0.825, 0.409, 1.   ],\n",
       "       [0.482, 0.769, 1.   ],\n",
       "       [0.806, 0.766, 1.   ],\n",
       "       [0.747, 0.978, 1.   ],\n",
       "       [0.339, 0.646, 1.   ],\n",
       "       [0.115, 0.42 , 0.   ],\n",
       "       [0.963, 0.993, 1.   ],\n",
       "       [0.141, 0.382, 0.   ],\n",
       "       [0.967, 0.87 , 1.   ],\n",
       "       [0.86 , 0.907, 1.   ],\n",
       "       [0.724, 0.376, 1.   ],\n",
       "       [0.98 , 0.683, 1.   ],\n",
       "       [0.967, 0.662, 1.   ],\n",
       "       [0.805, 0.539, 1.   ],\n",
       "       [0.366, 0.654, 1.   ],\n",
       "       [0.791, 0.348, 1.   ],\n",
       "       [0.014, 0.178, 0.   ],\n",
       "       [0.537, 0.537, 1.   ],\n",
       "       [0.455, 0.529, 1.   ],\n",
       "       [0.673, 0.728, 1.   ],\n",
       "       [0.672, 0.223, 0.   ],\n",
       "       [0.585, 0.003, 0.   ],\n",
       "       [0.822, 0.023, 1.   ],\n",
       "       [0.94 , 0.298, 1.   ],\n",
       "       [0.108, 0.673, 0.   ],\n",
       "       [0.234, 0.544, 1.   ],\n",
       "       [0.025, 0.532, 0.   ],\n",
       "       [0.884, 0.823, 1.   ],\n",
       "       [0.561, 0.248, 0.   ],\n",
       "       [0.915, 0.346, 1.   ],\n",
       "       [0.221, 0.276, 0.   ],\n",
       "       [0.063, 0.937, 1.   ],\n",
       "       [0.824, 0.725, 1.   ],\n",
       "       [0.909, 0.113, 1.   ],\n",
       "       [0.302, 0.809, 1.   ],\n",
       "       [0.408, 0.419, 1.   ],\n",
       "       [0.14 , 0.766, 0.   ],\n",
       "       [0.946, 0.884, 1.   ],\n",
       "       [0.304, 0.016, 0.   ],\n",
       "       [0.493, 0.206, 0.   ],\n",
       "       [0.097, 0.101, 0.   ],\n",
       "       [0.887, 0.034, 1.   ],\n",
       "       [0.136, 0.598, 0.   ],\n",
       "       [0.454, 0.703, 1.   ],\n",
       "       [0.67 , 0.049, 0.   ],\n",
       "       [0.743, 0.741, 1.   ],\n",
       "       [0.946, 0.402, 1.   ],\n",
       "       [0.419, 0.234, 0.   ],\n",
       "       [0.742, 0.217, 0.   ],\n",
       "       [0.155, 0.864, 1.   ],\n",
       "       [0.415, 0.056, 0.   ],\n",
       "       [0.099, 0.504, 0.   ],\n",
       "       [0.489, 0.289, 1.   ],\n",
       "       [0.408, 0.816, 1.   ],\n",
       "       [0.952, 0.732, 1.   ],\n",
       "       [0.033, 0.319, 0.   ],\n",
       "       [0.371, 0.598, 1.   ],\n",
       "       [0.443, 0.673, 1.   ],\n",
       "       [0.951, 0.321, 1.   ],\n",
       "       [0.855, 0.302, 1.   ]])"
      ]
     },
     "execution_count": 90,
     "metadata": {},
     "output_type": "execute_result"
    }
   ],
   "source": [
    "##Read data\n",
    "data=np.genfromtxt('testData.csv', delimiter=',', skip_header=1)\n",
    "data"
   ]
  },
  {
   "cell_type": "code",
   "execution_count": 97,
   "metadata": {},
   "outputs": [
    {
     "data": {
      "text/plain": [
       "(249, 3)"
      ]
     },
     "execution_count": 97,
     "metadata": {},
     "output_type": "execute_result"
    }
   ],
   "source": [
    "data.shape"
   ]
  },
  {
   "cell_type": "code",
   "execution_count": 98,
   "metadata": {},
   "outputs": [
    {
     "data": {
      "text/plain": [
       "array([[0.97 , 0.662],\n",
       "       [0.404, 0.525],\n",
       "       [0.515, 0.314],\n",
       "       [0.988, 0.173],\n",
       "       [0.658, 0.912],\n",
       "       [0.543, 0.342],\n",
       "       [0.413, 0.354],\n",
       "       [0.188, 0.772],\n",
       "       [0.362, 0.721],\n",
       "       [0.756, 0.643],\n",
       "       [0.625, 0.693],\n",
       "       [0.76 , 0.61 ],\n",
       "       [0.204, 0.192],\n",
       "       [0.549, 0.247],\n",
       "       [0.928, 0.558],\n",
       "       [0.438, 0.225],\n",
       "       [0.698, 0.973],\n",
       "       [0.121, 0.298],\n",
       "       [0.973, 0.289],\n",
       "       [0.609, 0.207],\n",
       "       [0.239, 0.705],\n",
       "       [0.158, 0.317],\n",
       "       [0.551, 0.349],\n",
       "       [0.552, 0.934],\n",
       "       [0.093, 0.795],\n",
       "       [0.992, 0.273],\n",
       "       [0.913, 0.122],\n",
       "       [0.461, 0.677],\n",
       "       [0.117, 0.38 ],\n",
       "       [0.832, 0.98 ],\n",
       "       [0.498, 0.818],\n",
       "       [0.717, 0.955],\n",
       "       [0.509, 0.805],\n",
       "       [0.273, 0.29 ],\n",
       "       [0.835, 0.288],\n",
       "       [0.98 , 0.714],\n",
       "       [0.244, 0.346],\n",
       "       [0.551, 0.442],\n",
       "       [0.384, 0.256],\n",
       "       [0.922, 0.479],\n",
       "       [0.508, 0.202],\n",
       "       [0.879, 0.539],\n",
       "       [0.864, 0.933],\n",
       "       [0.276, 0.696],\n",
       "       [0.79 , 0.137],\n",
       "       [0.415, 0.616],\n",
       "       [0.934, 0.587],\n",
       "       [0.508, 0.242],\n",
       "       [0.821, 0.67 ],\n",
       "       [0.283, 0.531],\n",
       "       [0.299, 0.638],\n",
       "       [0.587, 0.052],\n",
       "       [0.999, 0.413],\n",
       "       [0.49 , 0.717],\n",
       "       [0.149, 0.101],\n",
       "       [0.539, 0.771],\n",
       "       [0.345, 0.005],\n",
       "       [0.552, 0.55 ],\n",
       "       [0.543, 0.929],\n",
       "       [0.455, 0.407],\n",
       "       [0.322, 0.935],\n",
       "       [0.189, 0.878],\n",
       "       [0.697, 0.477],\n",
       "       [0.572, 0.199],\n",
       "       [0.234, 0.964],\n",
       "       [0.776, 0.321],\n",
       "       [0.044, 0.646],\n",
       "       [0.745, 0.908],\n",
       "       [0.705, 0.089],\n",
       "       [0.811, 0.574],\n",
       "       [0.386, 0.535],\n",
       "       [0.664, 0.723],\n",
       "       [0.821, 0.937],\n",
       "       [0.981, 0.913],\n",
       "       [0.495, 0.175],\n",
       "       [0.037, 0.882],\n",
       "       [0.502, 0.176],\n",
       "       [0.59 , 0.92 ],\n",
       "       [0.87 , 0.997],\n",
       "       [0.874, 0.397],\n",
       "       [0.44 , 0.495],\n",
       "       [0.526, 0.937],\n",
       "       [0.457, 0.962],\n",
       "       [0.722, 0.926],\n",
       "       [0.41 , 0.877],\n",
       "       [0.655, 0.009],\n",
       "       [0.154, 0.568],\n",
       "       [0.469, 0.107],\n",
       "       [0.969, 0.983],\n",
       "       [0.339, 0.285],\n",
       "       [0.693, 0.989],\n",
       "       [0.65 , 0.543],\n",
       "       [0.852, 0.494],\n",
       "       [0.852, 0.939],\n",
       "       [0.859, 0.851],\n",
       "       [0.38 , 0.468],\n",
       "       [0.317, 0.193],\n",
       "       [0.719, 0.113],\n",
       "       [0.759, 0.162],\n",
       "       [0.872, 0.459],\n",
       "       [0.036, 0.257],\n",
       "       [0.068, 0.186],\n",
       "       [0.631, 0.737],\n",
       "       [0.921, 0.791],\n",
       "       [0.997, 0.568],\n",
       "       [0.747, 0.757],\n",
       "       [0.434, 0.175],\n",
       "       [0.098, 0.856],\n",
       "       [0.634, 0.897],\n",
       "       [0.873, 0.827],\n",
       "       [0.444, 0.515],\n",
       "       [0.694, 0.087],\n",
       "       [0.903, 0.669],\n",
       "       [0.046, 0.185],\n",
       "       [0.796, 0.141],\n",
       "       [0.293, 0.324],\n",
       "       [0.375, 0.248],\n",
       "       [0.146, 0.261],\n",
       "       [0.531, 0.236],\n",
       "       [0.566, 0.754],\n",
       "       [0.793, 0.954],\n",
       "       [0.17 , 0.302],\n",
       "       [0.079, 0.723],\n",
       "       [0.871, 0.011],\n",
       "       [0.62 , 0.654],\n",
       "       [0.241, 0.693],\n",
       "       [0.913, 0.062],\n",
       "       [0.143, 0.118],\n",
       "       [0.461, 0.307],\n",
       "       [0.254, 0.405],\n",
       "       [0.255, 0.503],\n",
       "       [0.009, 0.895],\n",
       "       [0.805, 0.704],\n",
       "       [0.901, 0.311],\n",
       "       [0.678, 0.117],\n",
       "       [0.158, 0.916],\n",
       "       [0.442, 0.295],\n",
       "       [0.346, 0.615],\n",
       "       [0.588, 0.219],\n",
       "       [0.639, 0.134],\n",
       "       [0.424, 0.153],\n",
       "       [0.25 , 0.748],\n",
       "       [0.845, 0.606],\n",
       "       [0.199, 0.416],\n",
       "       [0.385, 0.549],\n",
       "       [0.483, 0.471],\n",
       "       [0.237, 0.538],\n",
       "       [0.572, 0.664],\n",
       "       [0.575, 0.218],\n",
       "       [0.993, 0.247],\n",
       "       [0.295, 0.755],\n",
       "       [0.978, 0.873],\n",
       "       [0.658, 0.082],\n",
       "       [0.274, 0.447],\n",
       "       [0.566, 0.704],\n",
       "       [0.686, 0.078],\n",
       "       [0.745, 0.564],\n",
       "       [0.049, 0.062],\n",
       "       [0.606, 0.548],\n",
       "       [0.497, 0.505],\n",
       "       [0.904, 0.573],\n",
       "       [0.286, 0.15 ],\n",
       "       [0.799, 0.328],\n",
       "       [0.607, 0.52 ],\n",
       "       [0.352, 0.116],\n",
       "       [0.637, 0.205],\n",
       "       [0.621, 0.583],\n",
       "       [0.678, 0.091],\n",
       "       [0.721, 0.51 ],\n",
       "       [0.659, 0.809],\n",
       "       [0.838, 0.453],\n",
       "       [0.628, 0.513],\n",
       "       [0.903, 0.457],\n",
       "       [0.646, 0.058],\n",
       "       [0.309, 0.462],\n",
       "       [0.441, 0.807],\n",
       "       [0.58 , 0.723],\n",
       "       [0.732, 0.396],\n",
       "       [0.09 , 0.816],\n",
       "       [0.295, 0.746],\n",
       "       [0.747, 0.578],\n",
       "       [0.176, 0.045],\n",
       "       [0.132, 0.345],\n",
       "       [0.539, 0.064],\n",
       "       [0.971, 0.994],\n",
       "       [0.531, 0.935],\n",
       "       [0.913, 0.069],\n",
       "       [0.83 , 0.934],\n",
       "       [0.257, 0.032],\n",
       "       [0.825, 0.409],\n",
       "       [0.482, 0.769],\n",
       "       [0.806, 0.766],\n",
       "       [0.747, 0.978],\n",
       "       [0.339, 0.646],\n",
       "       [0.115, 0.42 ],\n",
       "       [0.963, 0.993],\n",
       "       [0.141, 0.382],\n",
       "       [0.967, 0.87 ],\n",
       "       [0.86 , 0.907],\n",
       "       [0.724, 0.376],\n",
       "       [0.98 , 0.683],\n",
       "       [0.967, 0.662],\n",
       "       [0.805, 0.539],\n",
       "       [0.366, 0.654],\n",
       "       [0.791, 0.348],\n",
       "       [0.014, 0.178],\n",
       "       [0.537, 0.537],\n",
       "       [0.455, 0.529],\n",
       "       [0.673, 0.728],\n",
       "       [0.672, 0.223],\n",
       "       [0.585, 0.003],\n",
       "       [0.822, 0.023],\n",
       "       [0.94 , 0.298],\n",
       "       [0.108, 0.673],\n",
       "       [0.234, 0.544],\n",
       "       [0.025, 0.532],\n",
       "       [0.884, 0.823],\n",
       "       [0.561, 0.248],\n",
       "       [0.915, 0.346],\n",
       "       [0.221, 0.276],\n",
       "       [0.063, 0.937],\n",
       "       [0.824, 0.725],\n",
       "       [0.909, 0.113],\n",
       "       [0.302, 0.809],\n",
       "       [0.408, 0.419],\n",
       "       [0.14 , 0.766],\n",
       "       [0.946, 0.884],\n",
       "       [0.304, 0.016],\n",
       "       [0.493, 0.206],\n",
       "       [0.097, 0.101],\n",
       "       [0.887, 0.034],\n",
       "       [0.136, 0.598],\n",
       "       [0.454, 0.703],\n",
       "       [0.67 , 0.049],\n",
       "       [0.743, 0.741],\n",
       "       [0.946, 0.402],\n",
       "       [0.419, 0.234],\n",
       "       [0.742, 0.217],\n",
       "       [0.155, 0.864],\n",
       "       [0.415, 0.056],\n",
       "       [0.099, 0.504],\n",
       "       [0.489, 0.289],\n",
       "       [0.408, 0.816],\n",
       "       [0.952, 0.732],\n",
       "       [0.033, 0.319],\n",
       "       [0.371, 0.598],\n",
       "       [0.443, 0.673],\n",
       "       [0.951, 0.321],\n",
       "       [0.855, 0.302]])"
      ]
     },
     "execution_count": 98,
     "metadata": {},
     "output_type": "execute_result"
    }
   ],
   "source": [
    "X=data[:,range(2)]\n",
    "X"
   ]
  },
  {
   "cell_type": "code",
   "execution_count": 99,
   "metadata": {},
   "outputs": [
    {
     "data": {
      "text/plain": [
       "array([1., 1., 1., 1., 1., 1., 1., 1., 1., 1., 1., 1., 0., 1., 1., 0., 1.,\n",
       "       0., 1., 0., 1., 0., 1., 1., 0., 1., 1., 1., 0., 1., 1., 1., 1., 0.,\n",
       "       1., 1., 0., 1., 0., 1., 0., 1., 1., 1., 0., 1., 1., 1., 1., 0., 1.,\n",
       "       0., 1., 1., 0., 1., 0., 1., 1., 0., 1., 1., 1., 0., 1., 1., 0., 1.,\n",
       "       0., 1., 1., 1., 1., 1., 0., 1., 0., 1., 1., 1., 1., 1., 1., 1., 1.,\n",
       "       0., 0., 0., 1., 0., 1., 1., 1., 1., 1., 0., 0., 0., 0., 1., 0., 0.,\n",
       "       1., 1., 1., 1., 0., 1., 1., 1., 1., 0., 1., 0., 0., 0., 0., 0., 0.,\n",
       "       1., 1., 0., 0., 1., 1., 1., 1., 0., 0., 0., 0., 1., 1., 1., 0., 1.,\n",
       "       0., 1., 1., 0., 0., 1., 1., 0., 1., 1., 1., 1., 1., 1., 1., 1., 0.,\n",
       "       0., 1., 0., 1., 0., 1., 1., 1., 0., 1., 1., 0., 1., 1., 0., 1., 1.,\n",
       "       1., 1., 1., 0., 1., 1., 1., 1., 1., 1., 1., 0., 0., 0., 1., 1., 1.,\n",
       "       1., 0., 1., 1., 1., 1., 1., 0., 1., 0., 1., 1., 1., 1., 1., 1., 1.,\n",
       "       1., 0., 1., 1., 1., 0., 0., 1., 1., 0., 1., 0., 1., 0., 1., 0., 1.,\n",
       "       1., 1., 1., 1., 0., 1., 0., 0., 0., 1., 0., 1., 0., 1., 1., 0., 0.,\n",
       "       1., 0., 0., 1., 1., 1., 0., 1., 1., 1., 1.])"
      ]
     },
     "execution_count": 99,
     "metadata": {},
     "output_type": "execute_result"
    }
   ],
   "source": [
    "y=data[:,2]\n",
    "y"
   ]
  },
  {
   "cell_type": "code",
   "execution_count": 100,
   "metadata": {},
   "outputs": [
    {
     "data": {
      "text/plain": [
       "<matplotlib.collections.PathCollection at 0x137d0ce90>"
      ]
     },
     "execution_count": 100,
     "metadata": {},
     "output_type": "execute_result"
    },
    {
     "data": {
      "image/png": "[encoded data removed]",
      "text/plain": [
       "<Figure size 432x288 with 1 Axes>"
      ]
     },
     "metadata": {
      "needs_background": "light"
     },
     "output_type": "display_data"
    }
   ],
   "source": [
    "plt.scatter(X[:,0], X[:,1],c=y,s=70,marker='+')"
   ]
  },
  {
   "cell_type": "code",
   "execution_count": 101,
   "metadata": {},
   "outputs": [],
   "source": [
    "from sklearn.svm import SVC"
   ]
  },
  {
   "cell_type": "code",
   "execution_count": 102,
   "metadata": {},
   "outputs": [
    {
     "data": {
      "text/plain": [
       "SVC(C=100000000, cache_size=200, class_weight=None, coef0=0.0,\n",
       "    decision_function_shape='ovr', degree=3, gamma='auto_deprecated',\n",
       "    kernel='linear', max_iter=-1, probability=False, random_state=None,\n",
       "    shrinking=True, tol=0.001, verbose=False)"
      ]
     },
     "execution_count": 102,
     "metadata": {},
     "output_type": "execute_result"
    }
   ],
   "source": [
    "clf=SVC(kernel='linear', C=100000000)\n",
    "clf.fit(X,y)     ### high C hard boundaries"
   ]
  },
  {
   "cell_type": "code",
   "execution_count": 103,
   "metadata": {},
   "outputs": [
    {
     "data": {
      "text/plain": [
       "0.9116465863453815"
      ]
     },
     "execution_count": 103,
     "metadata": {},
     "output_type": "execute_result"
    }
   ],
   "source": [
    "clf.score(X,y)"
   ]
  },
  {
   "cell_type": "code",
   "execution_count": 104,
   "metadata": {},
   "outputs": [
    {
     "data": {
      "text/plain": [
       "22"
      ]
     },
     "execution_count": 104,
     "metadata": {},
     "output_type": "execute_result"
    }
   ],
   "source": [
    "np.sum(clf.predict(X)!=y)"
   ]
  },
  {
   "cell_type": "code",
   "execution_count": 106,
   "metadata": {},
   "outputs": [
    {
     "data": {
      "image/png": "[encoded data removed]",
      "text/plain": [
       "<Figure size 432x288 with 1 Axes>"
      ]
     },
     "metadata": {
      "needs_background": "light"
     },
     "output_type": "display_data"
    }
   ],
   "source": [
    "h=.01\n",
    "x_min=-1.5\n",
    "x_max=1.5\n",
    "y_min=-1.5\n",
    "y_max=1.5\n",
    "xx, yy = np.meshgrid(np.arange(x_min, x_max, h), np.arange(y_min, y_max, h))\n",
    "Z = clf.predict(np.c_[xx.ravel(), yy.ravel()])\n",
    "Z = Z.reshape(xx.shape)\n",
    "plt.contour(xx, yy, Z) #play around with cmap options to get different color maps\n",
    "plt.scatter(X[:,0], X[:,1],c=y,s=70,cmap='winter')\n",
    "plt.show()"
   ]
  },
  {
   "cell_type": "code",
   "execution_count": null,
   "metadata": {},
   "outputs": [],
   "source": []
  }
 ],
 "metadata": {
  "kernelspec": {
   "display_name": "Python 3",
   "language": "python",
   "name": "python3"
  },
  "language_info": {
   "codemirror_mode": {
    "name": "ipython",
    "version": 3
   },
   "file_extension": ".py",
   "mimetype": "text/x-python",
   "name": "python",
   "nbconvert_exporter": "python",
   "pygments_lexer": "ipython3",
   "version": "3.7.4"
  }
 },
 "nbformat": 4,
 "nbformat_minor": 2
}

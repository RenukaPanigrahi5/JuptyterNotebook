{
 "cells": [
  {
   "cell_type": "code",
   "execution_count": 39,
   "metadata": {},
   "outputs": [],
   "source": [
    "import pandas as pd\n",
    "import numpy as np\n",
    "from sklearn import linear_model\n",
    "import matplotlib.pyplot as plt"
   ]
  },
  {
   "cell_type": "code",
   "execution_count": 61,
   "metadata": {},
   "outputs": [
    {
     "data": {
      "text/plain": [
       "array([[    nan, 14.1   ,  0.86  ,  0.9853, 13.6   ],\n",
       "       [    nan, 16.    ,  1.06  ,  1.0938, 16.6   ],\n",
       "       [    nan, 29.8   ,  2.03  ,  1.165 , 23.5   ],\n",
       "       [    nan,  8.    ,  0.67  ,  0.928 , 10.2   ],\n",
       "       [    nan,  4.1   ,  0.4   ,  0.9462,  5.4   ],\n",
       "       [    nan, 15.    ,  1.04  ,  0.8885, 15.    ],\n",
       "       [    nan,  8.8   ,  0.76  ,  1.0267,  9.    ],\n",
       "       [    nan, 12.4   ,  0.95  ,  0.9225, 12.3   ],\n",
       "       [    nan, 16.6   ,  1.12  ,  0.9372, 16.3   ],\n",
       "       [    nan, 14.9   ,  1.02  ,  0.8858, 15.4   ],\n",
       "       [    nan, 13.7   ,  1.01  ,  0.9643, 13.    ],\n",
       "       [    nan, 15.1   ,  0.9   ,  0.9316, 14.4   ],\n",
       "       [    nan,  7.8   ,  0.57  ,  0.9705, 10.    ],\n",
       "       [    nan, 11.4   ,  0.78  ,  1.124 , 10.2   ],\n",
       "       [    nan,  9.    ,  0.74  ,  0.8517,  9.5   ],\n",
       "       [    nan,  1.    ,  0.13  ,  0.7851,  1.5   ],\n",
       "       [    nan, 17.    ,  1.26  ,  0.9186, 18.5   ],\n",
       "       [    nan, 12.8   ,  1.08  ,  1.0395, 12.6   ],\n",
       "       [    nan, 15.8   ,  0.96  ,  0.9573, 17.5   ],\n",
       "       [    nan,  4.5   ,  0.42  ,  0.9106,  4.9   ],\n",
       "       [    nan, 14.5   ,  1.01  ,  1.007 , 15.9   ],\n",
       "       [    nan,  7.3   ,  0.61  ,  0.9806,  8.5   ],\n",
       "       [    nan,  8.6   ,  0.69  ,  0.9693, 10.6   ],\n",
       "       [    nan, 15.2   ,  1.02  ,  0.9496, 13.9   ],\n",
       "       [    nan, 12.    ,  0.82  ,  1.1184, 14.9   ]])"
      ]
     },
     "execution_count": 61,
     "metadata": {},
     "output_type": "execute_result"
    }
   ],
   "source": [
    "data=np.genfromtxt('cigarettes_multi_regression.csv', delimiter=',',skip_header=1)\n",
    "data"
   ]
  },
  {
   "cell_type": "code",
   "execution_count": 64,
   "metadata": {},
   "outputs": [
    {
     "data": {
      "text/plain": [
       "(25, 5)"
      ]
     },
     "execution_count": 64,
     "metadata": {},
     "output_type": "execute_result"
    }
   ],
   "source": [
    "data.shape ### 25 rows 5 columns "
   ]
  },
  {
   "cell_type": "code",
   "execution_count": 69,
   "metadata": {},
   "outputs": [
    {
     "data": {
      "text/plain": [
       "array([14.1, 16. , 29.8,  8. ,  4.1, 15. ,  8.8, 12.4, 16.6, 14.9, 13.7,\n",
       "       15.1,  7.8, 11.4,  9. ,  1. , 17. , 12.8, 15.8,  4.5, 14.5,  7.3,\n",
       "        8.6, 15.2, 12. ])"
      ]
     },
     "execution_count": 69,
     "metadata": {},
     "output_type": "execute_result"
    }
   ],
   "source": [
    "Tar = data[:,1] ### getting the Tar column\n",
    "Tar"
   ]
  },
  {
   "cell_type": "code",
   "execution_count": 70,
   "metadata": {},
   "outputs": [
    {
     "data": {
      "text/plain": [
       "array([0.86, 1.06, 2.03, 0.67, 0.4 , 1.04, 0.76, 0.95, 1.12, 1.02, 1.01,\n",
       "       0.9 , 0.57, 0.78, 0.74, 0.13, 1.26, 1.08, 0.96, 0.42, 1.01, 0.61,\n",
       "       0.69, 1.02, 0.82])"
      ]
     },
     "execution_count": 70,
     "metadata": {},
     "output_type": "execute_result"
    }
   ],
   "source": [
    "Nicotine = data[:,2] ### getting the Nicotine column\n",
    "Nicotine"
   ]
  },
  {
   "cell_type": "code",
   "execution_count": 79,
   "metadata": {
    "scrolled": true
   },
   "outputs": [
    {
     "data": {
      "text/plain": [
       "array([13.6, 16.6, 23.5, 10.2,  5.4, 15. ,  9. , 12.3, 16.3, 15.4, 13. ,\n",
       "       14.4, 10. , 10.2,  9.5,  1.5, 18.5, 12.6, 17.5,  4.9, 15.9,  8.5,\n",
       "       10.6, 13.9, 14.9])"
      ]
     },
     "execution_count": 79,
     "metadata": {},
     "output_type": "execute_result"
    }
   ],
   "source": [
    "CO = data[:,4]\n",
    "CO"
   ]
  },
  {
   "cell_type": "code",
   "execution_count": 71,
   "metadata": {},
   "outputs": [],
   "source": [
    "reg=linear_model.LinearRegression()"
   ]
  },
  {
   "cell_type": "code",
   "execution_count": 73,
   "metadata": {},
   "outputs": [
    {
     "data": {
      "text/plain": [
       "array([[14.1],\n",
       "       [16. ],\n",
       "       [29.8],\n",
       "       [ 8. ],\n",
       "       [ 4.1],\n",
       "       [15. ],\n",
       "       [ 8.8],\n",
       "       [12.4],\n",
       "       [16.6],\n",
       "       [14.9],\n",
       "       [13.7],\n",
       "       [15.1],\n",
       "       [ 7.8],\n",
       "       [11.4],\n",
       "       [ 9. ],\n",
       "       [ 1. ],\n",
       "       [17. ],\n",
       "       [12.8],\n",
       "       [15.8],\n",
       "       [ 4.5],\n",
       "       [14.5],\n",
       "       [ 7.3],\n",
       "       [ 8.6],\n",
       "       [15.2],\n",
       "       [12. ]])"
      ]
     },
     "execution_count": 73,
     "metadata": {},
     "output_type": "execute_result"
    }
   ],
   "source": [
    "X=data[:,1].reshape(-1,1)\n",
    "X"
   ]
  },
  {
   "cell_type": "code",
   "execution_count": 74,
   "metadata": {},
   "outputs": [
    {
     "data": {
      "text/plain": [
       "array([[0.86],\n",
       "       [1.06],\n",
       "       [2.03],\n",
       "       [0.67],\n",
       "       [0.4 ],\n",
       "       [1.04],\n",
       "       [0.76],\n",
       "       [0.95],\n",
       "       [1.12],\n",
       "       [1.02],\n",
       "       [1.01],\n",
       "       [0.9 ],\n",
       "       [0.57],\n",
       "       [0.78],\n",
       "       [0.74],\n",
       "       [0.13],\n",
       "       [1.26],\n",
       "       [1.08],\n",
       "       [0.96],\n",
       "       [0.42],\n",
       "       [1.01],\n",
       "       [0.61],\n",
       "       [0.69],\n",
       "       [1.02],\n",
       "       [0.82]])"
      ]
     },
     "execution_count": 74,
     "metadata": {},
     "output_type": "execute_result"
    }
   ],
   "source": [
    "Y=data[:,2].reshape(-1,1)\n",
    "Y"
   ]
  },
  {
   "cell_type": "code",
   "execution_count": 75,
   "metadata": {},
   "outputs": [
    {
     "data": {
      "text/plain": [
       "LinearRegression(copy_X=True, fit_intercept=True, n_jobs=None, normalize=False)"
      ]
     },
     "execution_count": 75,
     "metadata": {},
     "output_type": "execute_result"
    }
   ],
   "source": [
    "reg.fit(X,Y)"
   ]
  },
  {
   "cell_type": "code",
   "execution_count": 76,
   "metadata": {},
   "outputs": [
    {
     "data": {
      "text/plain": [
       "array([0.13087532])"
      ]
     },
     "execution_count": 76,
     "metadata": {},
     "output_type": "execute_result"
    }
   ],
   "source": [
    "reg.intercept_"
   ]
  },
  {
   "cell_type": "code",
   "execution_count": 77,
   "metadata": {},
   "outputs": [
    {
     "data": {
      "text/plain": [
       "array([[0.06102854]])"
      ]
     },
     "execution_count": 77,
     "metadata": {},
     "output_type": "execute_result"
    }
   ],
   "source": [
    "reg.coef_"
   ]
  },
  {
   "cell_type": "code",
   "execution_count": 78,
   "metadata": {},
   "outputs": [
    {
     "ename": "TypeError",
     "evalue": "predict() missing 1 required positional argument: 'X'",
     "output_type": "error",
     "traceback": [
      "\u001b[0;31m---------------------------------------------------------------------------\u001b[0m",
      "\u001b[0;31mTypeError\u001b[0m                                 Traceback (most recent call last)",
      "\u001b[0;32m<ipython-input-78-e211d5ac2818>\u001b[0m in \u001b[0;36m<module>\u001b[0;34m\u001b[0m\n\u001b[0;32m----> 1\u001b[0;31m \u001b[0mreg\u001b[0m\u001b[0;34m.\u001b[0m\u001b[0mpredict\u001b[0m\u001b[0;34m(\u001b[0m\u001b[0;34m)\u001b[0m\u001b[0;34m\u001b[0m\u001b[0;34m\u001b[0m\u001b[0m\n\u001b[0m",
      "\u001b[0;31mTypeError\u001b[0m: predict() missing 1 required positional argument: 'X'"
     ]
    }
   ],
   "source": [
    "reg.predict()"
   ]
  },
  {
   "cell_type": "code",
   "execution_count": null,
   "metadata": {},
   "outputs": [],
   "source": []
  }
 ],
 "metadata": {
  "kernelspec": {
   "display_name": "Python 3",
   "language": "python",
   "name": "python3"
  },
  "language_info": {
   "codemirror_mode": {
    "name": "ipython",
    "version": 3
   },
   "file_extension": ".py",
   "mimetype": "text/x-python",
   "name": "python",
   "nbconvert_exporter": "python",
   "pygments_lexer": "ipython3",
   "version": "3.7.4"
  }
 },
 "nbformat": 4,
 "nbformat_minor": 2
}

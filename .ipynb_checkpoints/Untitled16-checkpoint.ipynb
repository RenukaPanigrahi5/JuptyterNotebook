{
 "cells": [
  {
   "cell_type": "code",
   "execution_count": 24,
   "metadata": {},
   "outputs": [],
   "source": [
    "import pandas as pd\n",
    "import numpy as np\n",
    "from sklearn import linear_model\n",
    "import matplotlib.pyplot as plt\n",
    "from mpl_toolkits.mplot3d import Axes3D\n",
    "import matplotlib.pyplot as plt\n",
    "import statsmodels.formula.api as smf"
   ]
  },
  {
   "cell_type": "code",
   "execution_count": 25,
   "metadata": {
    "scrolled": true
   },
   "outputs": [
    {
     "data": {
      "text/html": [
       "<div>\n",
       "<style scoped>\n",
       "    .dataframe tbody tr th:only-of-type {\n",
       "        vertical-align: middle;\n",
       "    }\n",
       "\n",
       "    .dataframe tbody tr th {\n",
       "        vertical-align: top;\n",
       "    }\n",
       "\n",
       "    .dataframe thead th {\n",
       "        text-align: right;\n",
       "    }\n",
       "</style>\n",
       "<table border=\"1\" class=\"dataframe\">\n",
       "  <thead>\n",
       "    <tr style=\"text-align: right;\">\n",
       "      <th></th>\n",
       "      <th>Brand</th>\n",
       "      <th>Tar</th>\n",
       "      <th>Nicotine</th>\n",
       "      <th>Weight</th>\n",
       "      <th>CO</th>\n",
       "    </tr>\n",
       "  </thead>\n",
       "  <tbody>\n",
       "    <tr>\n",
       "      <td>0</td>\n",
       "      <td>Alpine</td>\n",
       "      <td>14.1</td>\n",
       "      <td>0.86</td>\n",
       "      <td>0.9853</td>\n",
       "      <td>13.6</td>\n",
       "    </tr>\n",
       "    <tr>\n",
       "      <td>1</td>\n",
       "      <td>Benson&amp;Hedges</td>\n",
       "      <td>16.0</td>\n",
       "      <td>1.06</td>\n",
       "      <td>1.0938</td>\n",
       "      <td>16.6</td>\n",
       "    </tr>\n",
       "    <tr>\n",
       "      <td>2</td>\n",
       "      <td>BullDurham</td>\n",
       "      <td>29.8</td>\n",
       "      <td>2.03</td>\n",
       "      <td>1.1650</td>\n",
       "      <td>23.5</td>\n",
       "    </tr>\n",
       "    <tr>\n",
       "      <td>3</td>\n",
       "      <td>CamelLights</td>\n",
       "      <td>8.0</td>\n",
       "      <td>0.67</td>\n",
       "      <td>0.9280</td>\n",
       "      <td>10.2</td>\n",
       "    </tr>\n",
       "    <tr>\n",
       "      <td>4</td>\n",
       "      <td>Carlton</td>\n",
       "      <td>4.1</td>\n",
       "      <td>0.40</td>\n",
       "      <td>0.9462</td>\n",
       "      <td>5.4</td>\n",
       "    </tr>\n",
       "    <tr>\n",
       "      <td>5</td>\n",
       "      <td>Chesterfield</td>\n",
       "      <td>15.0</td>\n",
       "      <td>1.04</td>\n",
       "      <td>0.8885</td>\n",
       "      <td>15.0</td>\n",
       "    </tr>\n",
       "    <tr>\n",
       "      <td>6</td>\n",
       "      <td>GoldenLights</td>\n",
       "      <td>8.8</td>\n",
       "      <td>0.76</td>\n",
       "      <td>1.0267</td>\n",
       "      <td>9.0</td>\n",
       "    </tr>\n",
       "    <tr>\n",
       "      <td>7</td>\n",
       "      <td>Kent</td>\n",
       "      <td>12.4</td>\n",
       "      <td>0.95</td>\n",
       "      <td>0.9225</td>\n",
       "      <td>12.3</td>\n",
       "    </tr>\n",
       "    <tr>\n",
       "      <td>8</td>\n",
       "      <td>Kool</td>\n",
       "      <td>16.6</td>\n",
       "      <td>1.12</td>\n",
       "      <td>0.9372</td>\n",
       "      <td>16.3</td>\n",
       "    </tr>\n",
       "    <tr>\n",
       "      <td>9</td>\n",
       "      <td>L&amp;M</td>\n",
       "      <td>14.9</td>\n",
       "      <td>1.02</td>\n",
       "      <td>0.8858</td>\n",
       "      <td>15.4</td>\n",
       "    </tr>\n",
       "    <tr>\n",
       "      <td>10</td>\n",
       "      <td>LarkLights</td>\n",
       "      <td>13.7</td>\n",
       "      <td>1.01</td>\n",
       "      <td>0.9643</td>\n",
       "      <td>13.0</td>\n",
       "    </tr>\n",
       "    <tr>\n",
       "      <td>11</td>\n",
       "      <td>Marlboro</td>\n",
       "      <td>15.1</td>\n",
       "      <td>0.90</td>\n",
       "      <td>0.9316</td>\n",
       "      <td>14.4</td>\n",
       "    </tr>\n",
       "    <tr>\n",
       "      <td>12</td>\n",
       "      <td>Merit</td>\n",
       "      <td>7.8</td>\n",
       "      <td>0.57</td>\n",
       "      <td>0.9705</td>\n",
       "      <td>10.0</td>\n",
       "    </tr>\n",
       "    <tr>\n",
       "      <td>13</td>\n",
       "      <td>MultiFilter</td>\n",
       "      <td>11.4</td>\n",
       "      <td>0.78</td>\n",
       "      <td>1.1240</td>\n",
       "      <td>10.2</td>\n",
       "    </tr>\n",
       "    <tr>\n",
       "      <td>14</td>\n",
       "      <td>NewportLights</td>\n",
       "      <td>9.0</td>\n",
       "      <td>0.74</td>\n",
       "      <td>0.8517</td>\n",
       "      <td>9.5</td>\n",
       "    </tr>\n",
       "    <tr>\n",
       "      <td>15</td>\n",
       "      <td>Now</td>\n",
       "      <td>1.0</td>\n",
       "      <td>0.13</td>\n",
       "      <td>0.7851</td>\n",
       "      <td>1.5</td>\n",
       "    </tr>\n",
       "    <tr>\n",
       "      <td>16</td>\n",
       "      <td>OldGold</td>\n",
       "      <td>17.0</td>\n",
       "      <td>1.26</td>\n",
       "      <td>0.9186</td>\n",
       "      <td>18.5</td>\n",
       "    </tr>\n",
       "    <tr>\n",
       "      <td>17</td>\n",
       "      <td>PallMallLight</td>\n",
       "      <td>12.8</td>\n",
       "      <td>1.08</td>\n",
       "      <td>1.0395</td>\n",
       "      <td>12.6</td>\n",
       "    </tr>\n",
       "    <tr>\n",
       "      <td>18</td>\n",
       "      <td>Raleigh</td>\n",
       "      <td>15.8</td>\n",
       "      <td>0.96</td>\n",
       "      <td>0.9573</td>\n",
       "      <td>17.5</td>\n",
       "    </tr>\n",
       "    <tr>\n",
       "      <td>19</td>\n",
       "      <td>SalemUltra</td>\n",
       "      <td>4.5</td>\n",
       "      <td>0.42</td>\n",
       "      <td>0.9106</td>\n",
       "      <td>4.9</td>\n",
       "    </tr>\n",
       "    <tr>\n",
       "      <td>20</td>\n",
       "      <td>Tareyton</td>\n",
       "      <td>14.5</td>\n",
       "      <td>1.01</td>\n",
       "      <td>1.0070</td>\n",
       "      <td>15.9</td>\n",
       "    </tr>\n",
       "    <tr>\n",
       "      <td>21</td>\n",
       "      <td>TRUE</td>\n",
       "      <td>7.3</td>\n",
       "      <td>0.61</td>\n",
       "      <td>0.9806</td>\n",
       "      <td>8.5</td>\n",
       "    </tr>\n",
       "    <tr>\n",
       "      <td>22</td>\n",
       "      <td>ViceroyRichLight</td>\n",
       "      <td>8.6</td>\n",
       "      <td>0.69</td>\n",
       "      <td>0.9693</td>\n",
       "      <td>10.6</td>\n",
       "    </tr>\n",
       "    <tr>\n",
       "      <td>23</td>\n",
       "      <td>VirginiaSlims</td>\n",
       "      <td>15.2</td>\n",
       "      <td>1.02</td>\n",
       "      <td>0.9496</td>\n",
       "      <td>13.9</td>\n",
       "    </tr>\n",
       "    <tr>\n",
       "      <td>24</td>\n",
       "      <td>WinstonLights</td>\n",
       "      <td>12.0</td>\n",
       "      <td>0.82</td>\n",
       "      <td>1.1184</td>\n",
       "      <td>14.9</td>\n",
       "    </tr>\n",
       "  </tbody>\n",
       "</table>\n",
       "</div>"
      ],
      "text/plain": [
       "               Brand   Tar  Nicotine  Weight    CO\n",
       "0             Alpine  14.1      0.86  0.9853  13.6\n",
       "1      Benson&Hedges  16.0      1.06  1.0938  16.6\n",
       "2         BullDurham  29.8      2.03  1.1650  23.5\n",
       "3        CamelLights   8.0      0.67  0.9280  10.2\n",
       "4            Carlton   4.1      0.40  0.9462   5.4\n",
       "5       Chesterfield  15.0      1.04  0.8885  15.0\n",
       "6       GoldenLights   8.8      0.76  1.0267   9.0\n",
       "7               Kent  12.4      0.95  0.9225  12.3\n",
       "8               Kool  16.6      1.12  0.9372  16.3\n",
       "9                L&M  14.9      1.02  0.8858  15.4\n",
       "10        LarkLights  13.7      1.01  0.9643  13.0\n",
       "11          Marlboro  15.1      0.90  0.9316  14.4\n",
       "12             Merit   7.8      0.57  0.9705  10.0\n",
       "13       MultiFilter  11.4      0.78  1.1240  10.2\n",
       "14     NewportLights   9.0      0.74  0.8517   9.5\n",
       "15               Now   1.0      0.13  0.7851   1.5\n",
       "16           OldGold  17.0      1.26  0.9186  18.5\n",
       "17     PallMallLight  12.8      1.08  1.0395  12.6\n",
       "18           Raleigh  15.8      0.96  0.9573  17.5\n",
       "19        SalemUltra   4.5      0.42  0.9106   4.9\n",
       "20          Tareyton  14.5      1.01  1.0070  15.9\n",
       "21              TRUE   7.3      0.61  0.9806   8.5\n",
       "22  ViceroyRichLight   8.6      0.69  0.9693  10.6\n",
       "23     VirginiaSlims  15.2      1.02  0.9496  13.9\n",
       "24     WinstonLights  12.0      0.82  1.1184  14.9"
      ]
     },
     "execution_count": 25,
     "metadata": {},
     "output_type": "execute_result"
    }
   ],
   "source": [
    "df = pd.read_csv('cigarettes_multi_regression.csv')\n",
    "df"
   ]
  },
  {
   "cell_type": "code",
   "execution_count": 26,
   "metadata": {},
   "outputs": [
    {
     "data": {
      "text/plain": [
       "LinearRegression(copy_X=True, fit_intercept=True, n_jobs=None, normalize=False)"
      ]
     },
     "execution_count": 26,
     "metadata": {},
     "output_type": "execute_result"
    }
   ],
   "source": [
    "reg = linear_model.LinearRegression()\n",
    "reg.fit(df[['Tar','Nicotine']],df.CO)"
   ]
  },
  {
   "cell_type": "code",
   "execution_count": 27,
   "metadata": {},
   "outputs": [
    {
     "data": {
      "text/plain": [
       "array([ 0.9624741 , -2.64627213])"
      ]
     },
     "execution_count": 27,
     "metadata": {},
     "output_type": "execute_result"
    }
   ],
   "source": [
    "reg.coef_"
   ]
  },
  {
   "cell_type": "code",
   "execution_count": 28,
   "metadata": {},
   "outputs": [
    {
     "data": {
      "text/plain": [
       "3.089609263939689"
      ]
     },
     "execution_count": 28,
     "metadata": {},
     "output_type": "execute_result"
    }
   ],
   "source": [
    "reg.intercept_"
   ]
  },
  {
   "cell_type": "code",
   "execution_count": 31,
   "metadata": {},
   "outputs": [
    {
     "data": {
      "text/plain": [
       "Intercept    3.089609\n",
       "Tar          0.962474\n",
       "Nicotine    -2.646272\n",
       "dtype: float64"
      ]
     },
     "execution_count": 31,
     "metadata": {},
     "output_type": "execute_result"
    }
   ],
   "source": [
    "model = smf.ols(formula='CO ~ Tar + Nicotine', data=df)\n",
    "results_formula = model.fit()\n",
    "results_formula.params"
   ]
  },
  {
   "cell_type": "code",
   "execution_count": 34,
   "metadata": {},
   "outputs": [],
   "source": [
    "## Prepare the data for Visualization\n",
    "\n",
    "x_surf, y_surf = np.meshgrid(np.linspace(df.Tar.min(), df.Tar.max(), 100),np.linspace(df.Nicotine.min(), df.Nicotine.max(), 100))\n",
    "onlyX = pd.DataFrame({'Tar': x_surf.ravel(), 'Nicotine': y_surf.ravel()})\n",
    "fittedY=results_formula.predict(exog=onlyX)\n"
   ]
  },
  {
   "cell_type": "code",
   "execution_count": 35,
   "metadata": {},
   "outputs": [],
   "source": [
    "## convert the predicted result in an array\n",
    "fittedY=np.array(fittedY)"
   ]
  },
  {
   "cell_type": "code",
   "execution_count": 38,
   "metadata": {},
   "outputs": [
    {
     "data": {
      "image/png": "[encoded data removed]",
      "text/plain": [
       "<Figure size 432x288 with 1 Axes>"
      ]
     },
     "metadata": {
      "needs_background": "light"
     },
     "output_type": "display_data"
    }
   ],
   "source": [
    "# Visualize the Data for Multiple Linear Regression\n",
    "\n",
    "fig = plt.figure()\n",
    "ax = fig.add_subplot(111, projection='3d')\n",
    "ax.scatter(df['Tar'],df['Nicotine'],df['CO'],c='red', marker='o', alpha=0.5)\n",
    "ax.plot_surface(x_surf,y_surf,fittedY.reshape(x_surf.shape), color='g', alpha=0.3)\n",
    "ax.set_xlabel('Tar')\n",
    "ax.set_ylabel('Nicotine')\n",
    "ax.set_zlabel('CO')\n",
    "plt.show()"
   ]
  },
  {
   "cell_type": "code",
   "execution_count": null,
   "metadata": {},
   "outputs": [],
   "source": []
  },
  {
   "cell_type": "code",
   "execution_count": null,
   "metadata": {},
   "outputs": [],
   "source": []
  }
 ],
 "metadata": {
  "kernelspec": {
   "display_name": "Python 3",
   "language": "python",
   "name": "python3"
  },
  "language_info": {
   "codemirror_mode": {
    "name": "ipython",
    "version": 3
   },
   "file_extension": ".py",
   "mimetype": "text/x-python",
   "name": "python",
   "nbconvert_exporter": "python",
   "pygments_lexer": "ipython3",
   "version": "3.7.4"
  }
 },
 "nbformat": 4,
 "nbformat_minor": 2
}

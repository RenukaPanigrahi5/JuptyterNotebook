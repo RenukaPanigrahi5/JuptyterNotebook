{
 "cells": [
  {
   "cell_type": "markdown",
   "metadata": {},
   "source": [
    "# SVM Class Work"
   ]
  },
  {
   "cell_type": "code",
   "execution_count": 2,
   "metadata": {},
   "outputs": [],
   "source": [
    "import numpy as np\n",
    "import sklearn as sk\n",
    "import pandas as pd\n",
    "import seaborn as sns"
   ]
  },
  {
   "cell_type": "code",
   "execution_count": 3,
   "metadata": {},
   "outputs": [],
   "source": [
    "import matplotlib.pyplot as plt\n",
    "from scipy import stats"
   ]
  },
  {
   "cell_type": "code",
   "execution_count": 4,
   "metadata": {},
   "outputs": [],
   "source": [
    "data=np.genfromtxt(\"linearlyseparable.csv\")"
   ]
  },
  {
   "cell_type": "code",
   "execution_count": 5,
   "metadata": {},
   "outputs": [
    {
     "data": {
      "text/plain": [
       "(50, 3)"
      ]
     },
     "execution_count": 5,
     "metadata": {},
     "output_type": "execute_result"
    }
   ],
   "source": [
    "data.shape"
   ]
  },
  {
   "cell_type": "code",
   "execution_count": 6,
   "metadata": {},
   "outputs": [
    {
     "data": {
      "text/plain": [
       "array([[ 1.4128,  1.5303],\n",
       "       [ 1.8134,  1.6311],\n",
       "       [ 1.4329,  4.3768],\n",
       "       [ 1.8727,  4.1807],\n",
       "       [ 2.0952,  1.0791],\n",
       "       [ 2.7389,  0.1568],\n",
       "       [ 3.1852,  0.089 ],\n",
       "       [ 2.0616,  1.9692],\n",
       "       [ 2.0384,  1.1547],\n",
       "       [-0.0475,  5.4743],\n",
       "       [ 1.7144,  5.0252],\n",
       "       [ 0.2246,  4.7703],\n",
       "       [ 1.0692,  4.5307],\n",
       "       [ 1.5328,  0.5504],\n",
       "       [ 1.4949,  3.8585],\n",
       "       [ 1.1641,  3.7913],\n",
       "       [ 0.7439,  4.1224],\n",
       "       [ 2.2967,  0.4868],\n",
       "       [ 0.4436,  3.1153],\n",
       "       [ 0.9143,  4.5501],\n",
       "       [ 1.6747,  0.68  ],\n",
       "       [ 2.2691,  1.3216],\n",
       "       [ 1.5109,  0.9288],\n",
       "       [ 1.6518,  0.6819],\n",
       "       [ 2.4927,  0.9751],\n",
       "       [ 2.3381,  3.4312],\n",
       "       [ 0.6705,  4.0409],\n",
       "       [-0.5555,  4.696 ],\n",
       "       [ 2.1617,  0.6566],\n",
       "       [ 2.0968,  3.7174],\n",
       "       [ 2.1802,  1.4836],\n",
       "       [ 0.439 ,  4.5359],\n",
       "       [ 1.2426,  4.504 ],\n",
       "       [ 0.0079,  4.1761],\n",
       "       [ 1.8959,  5.1854],\n",
       "       [ 1.8683,  0.9314],\n",
       "       [ 2.1314,  1.1389],\n",
       "       [ 1.0627,  5.1764],\n",
       "       [ 2.3347, -0.0241],\n",
       "       [ 0.6698,  3.5954],\n",
       "       [ 1.0771,  1.1753],\n",
       "       [ 1.5463,  4.213 ],\n",
       "       [ 1.5674, -0.1381],\n",
       "       [ 1.3562,  1.4382],\n",
       "       [ 1.0037,  4.1915],\n",
       "       [ 1.293 ,  1.4793],\n",
       "       [ 2.9482,  2.0352],\n",
       "       [ 0.3471,  3.4518],\n",
       "       [ 2.7625,  0.7897],\n",
       "       [ 0.7675,  4.3976]])"
      ]
     },
     "execution_count": 6,
     "metadata": {},
     "output_type": "execute_result"
    }
   ],
   "source": [
    "X=data[:,range(2)]\n",
    "X"
   ]
  },
  {
   "cell_type": "code",
   "execution_count": 7,
   "metadata": {},
   "outputs": [
    {
     "data": {
      "text/plain": [
       "array([1., 1., 0., 0., 1., 1., 1., 1., 1., 0., 0., 0., 0., 1., 0., 0., 0.,\n",
       "       1., 0., 0., 1., 1., 1., 1., 1., 0., 0., 0., 1., 0., 1., 0., 0., 0.,\n",
       "       0., 1., 1., 0., 1., 0., 1., 0., 1., 1., 0., 1., 1., 0., 1., 0.])"
      ]
     },
     "execution_count": 7,
     "metadata": {},
     "output_type": "execute_result"
    }
   ],
   "source": [
    "y=data[:,2]\n",
    "y"
   ]
  },
  {
   "cell_type": "code",
   "execution_count": 8,
   "metadata": {},
   "outputs": [
    {
     "data": {
      "text/plain": [
       "<matplotlib.collections.PathCollection at 0x135201110>"
      ]
     },
     "execution_count": 8,
     "metadata": {},
     "output_type": "execute_result"
    },
    {
     "data": {
      "image/png": "[encoded data removed]",
      "text/plain": [
       "<Figure size 432x288 with 1 Axes>"
      ]
     },
     "metadata": {
      "needs_background": "light"
     },
     "output_type": "display_data"
    }
   ],
   "source": [
    "plt.scatter(X[:,0], X[:,1],c=y,s=70,cmap='winter')"
   ]
  },
  {
   "cell_type": "code",
   "execution_count": 9,
   "metadata": {},
   "outputs": [],
   "source": [
    "from sklearn.svm import SVC"
   ]
  },
  {
   "cell_type": "code",
   "execution_count": 10,
   "metadata": {},
   "outputs": [],
   "source": [
    "clf=SVC(kernel='linear', C=1E10)"
   ]
  },
  {
   "cell_type": "code",
   "execution_count": 11,
   "metadata": {},
   "outputs": [
    {
     "data": {
      "text/plain": [
       "SVC(C=10000000000.0, cache_size=200, class_weight=None, coef0=0.0,\n",
       "    decision_function_shape='ovr', degree=3, gamma='auto_deprecated',\n",
       "    kernel='linear', max_iter=-1, probability=False, random_state=None,\n",
       "    shrinking=True, tol=0.001, verbose=False)"
      ]
     },
     "execution_count": 11,
     "metadata": {},
     "output_type": "execute_result"
    }
   ],
   "source": [
    "clf.fit(X,y)"
   ]
  },
  {
   "cell_type": "code",
   "execution_count": 12,
   "metadata": {},
   "outputs": [
    {
     "data": {
      "text/plain": [
       "array([[ 0.23528741, -1.41248795]])"
      ]
     },
     "execution_count": 12,
     "metadata": {},
     "output_type": "execute_result"
    }
   ],
   "source": [
    "clf.coef_"
   ]
  },
  {
   "cell_type": "code",
   "execution_count": 13,
   "metadata": {},
   "outputs": [
    {
     "data": {
      "text/plain": [
       "array([3.2962522])"
      ]
     },
     "execution_count": 13,
     "metadata": {},
     "output_type": "execute_result"
    }
   ],
   "source": [
    "clf.intercept_"
   ]
  },
  {
   "cell_type": "code",
   "execution_count": 14,
   "metadata": {},
   "outputs": [
    {
     "data": {
      "text/plain": [
       "0"
      ]
     },
     "execution_count": 14,
     "metadata": {},
     "output_type": "execute_result"
    }
   ],
   "source": [
    "np.sum(clf.predict(X)!=y)"
   ]
  },
  {
   "cell_type": "code",
   "execution_count": 15,
   "metadata": {},
   "outputs": [
    {
     "data": {
      "image/png": "[encoded data removed]",
      "text/plain": [
       "<Figure size 432x288 with 1 Axes>"
      ]
     },
     "metadata": {
      "needs_background": "light"
     },
     "output_type": "display_data"
    }
   ],
   "source": [
    "h=.01\n",
    "x_min=-1\n",
    "x_max=4\n",
    "y_min=-1\n",
    "y_max=6\n",
    "xx, yy = np.meshgrid(np.arange(x_min, x_max, h), np.arange(y_min, y_max, h))\n",
    "Z = clf.predict(np.c_[xx.ravel(), yy.ravel()])\n",
    "Z = Z.reshape(xx.shape)\n",
    "plt.contour(xx, yy, Z) #play around with cmap options to get different color maps\n",
    "plt.scatter(X[:,0], X[:,1],c=y,s=70,cmap='winter')\n",
    "plt.show()\n"
   ]
  },
  {
   "cell_type": "code",
   "execution_count": 16,
   "metadata": {},
   "outputs": [
    {
     "data": {
      "image/png": "[encoded data removed]",
      "text/plain": [
       "<Figure size 432x288 with 1 Axes>"
      ]
     },
     "metadata": {
      "needs_background": "light"
     },
     "output_type": "display_data"
    }
   ],
   "source": [
    "h=.01\n",
    "x_min=-1\n",
    "x_max=4\n",
    "y_min=-1\n",
    "y_max=6\n",
    "xx, yy = np.meshgrid(np.arange(x_min, x_max, h), np.arange(y_min, y_max, h))\n",
    "Z = clf.predict(np.c_[xx.ravel(), yy.ravel()])\n",
    "Z = Z.reshape(xx.shape)\n",
    "plt.contourf(xx, yy, Z,cmap=plt.cm.coolwarm, alpha=0.7) #play around with cmap options to get different color maps\n",
    "plt.scatter(X[:,0], X[:,1],c=y,s=70,cmap='winter')\n",
    "plt.show()"
   ]
  },
  {
   "cell_type": "code",
   "execution_count": null,
   "metadata": {},
   "outputs": [],
   "source": []
  }
 ],
 "metadata": {
  "kernelspec": {
   "display_name": "Python 3",
   "language": "python",
   "name": "python3"
  },
  "language_info": {
   "codemirror_mode": {
    "name": "ipython",
    "version": 3
   },
   "file_extension": ".py",
   "mimetype": "text/x-python",
   "name": "python",
   "nbconvert_exporter": "python",
   "pygments_lexer": "ipython3",
   "version": "3.7.4"
  }
 },
 "nbformat": 4,
 "nbformat_minor": 2
}

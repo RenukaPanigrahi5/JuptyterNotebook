{
 "cells": [
  {
   "cell_type": "code",
   "execution_count": 1,
   "metadata": {},
   "outputs": [],
   "source": [
    "import numpy as np\n",
    "import sklearn as sk\n",
    "import matplotlib.pyplot as plt"
   ]
  },
  {
   "cell_type": "code",
   "execution_count": 2,
   "metadata": {},
   "outputs": [],
   "source": [
    "from sklearn import linear_model"
   ]
  },
  {
   "cell_type": "code",
   "execution_count": 3,
   "metadata": {},
   "outputs": [
    {
     "data": {
      "text/plain": [
       "[0.92, 0.85, 0.66, 0.3, -3, 1]"
      ]
     },
     "execution_count": 3,
     "metadata": {},
     "output_type": "execute_result"
    }
   ],
   "source": [
    "x = [0.92,0.85,0.66,0.3,-3,1]\n",
    "x"
   ]
  },
  {
   "cell_type": "code",
   "execution_count": 4,
   "metadata": {},
   "outputs": [],
   "source": [
    "def regressionMetrics(x, y):\n",
    "    \"\"\" Uses linaer_model.LinearRegression class to find the regression model using x, y data.\n",
    "        Function returns SSR, SSE, SST, r^2 calculated as SSR/SST and r^2 from regression model \n",
    "    \"\"\"\n",
    "    regModel=linear_model.LinearRegression()\n",
    "    regModel.fit(x,y)\n",
    "    y_hat=regModel.predict(x)\n",
    "    y_mean=np.mean(y)\n",
    "    ssr = np.sum(np.square(y_hat-y_mean))\n",
    "    sse = np.sum(np.square(y-y_hat))\n",
    "    sst = np.sum(np.square(y-y_mean))\n",
    "    r_squared=ssr/sst\n",
    "    score=regModel.score(x, y)\n",
    "    return ssr, sse, sst, r_squared, score"
   ]
  },
  {
   "cell_type": "code",
   "execution_count": null,
   "metadata": {},
   "outputs": [],
   "source": []
  }
 ],
 "metadata": {
  "kernelspec": {
   "display_name": "Python 3",
   "language": "python",
   "name": "python3"
  },
  "language_info": {
   "codemirror_mode": {
    "name": "ipython",
    "version": 3
   },
   "file_extension": ".py",
   "mimetype": "text/x-python",
   "name": "python",
   "nbconvert_exporter": "python",
   "pygments_lexer": "ipython3",
   "version": "3.7.4"
  }
 },
 "nbformat": 4,
 "nbformat_minor": 2
}

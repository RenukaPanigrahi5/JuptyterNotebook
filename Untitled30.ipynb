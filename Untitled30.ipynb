{
 "cells": [
  {
   "cell_type": "code",
   "execution_count": 25,
   "metadata": {},
   "outputs": [],
   "source": [
    "import numpy as np\n",
    "import sklearn as sk\n",
    "import matplotlib.pyplot as plt"
   ]
  },
  {
   "cell_type": "code",
   "execution_count": 26,
   "metadata": {},
   "outputs": [],
   "source": [
    "from sklearn import linear_model"
   ]
  },
  {
   "cell_type": "code",
   "execution_count": 27,
   "metadata": {},
   "outputs": [],
   "source": [
    "##Read data\n",
    "FishingData=np.genfromtxt('fishdata.csv', delimiter=',', skip_header=1)"
   ]
  },
  {
   "cell_type": "code",
   "execution_count": 28,
   "metadata": {},
   "outputs": [
    {
     "data": {
      "text/plain": [
       "array([[25.4   ,  4.02  ],\n",
       "       [26.3   ,  4.3056],\n",
       "       [26.5   ,  4.6961],\n",
       "       [29.    ,  4.4555],\n",
       "       [29.    ,  5.134 ],\n",
       "       [29.7   ,  4.9274],\n",
       "       [29.7   ,  5.2785],\n",
       "       [30.    ,  4.69  ],\n",
       "       [30.    ,  4.8438],\n",
       "       [30.7   ,  4.9594],\n",
       "       [31.    ,  5.1042],\n",
       "       [31.    ,  4.8146],\n",
       "       [31.5   ,  4.368 ],\n",
       "       [32.    ,  5.0728],\n",
       "       [32.    ,  5.1708],\n",
       "       [32.    ,  5.58  ],\n",
       "       [33.    ,  5.2854],\n",
       "       [33.    ,  5.1975],\n",
       "       [33.5   ,  5.1338],\n",
       "       [33.5   ,  5.7276],\n",
       "       [34.    ,  5.5695],\n",
       "       [34.    ,  5.3704],\n",
       "       [34.5   ,  5.2801],\n",
       "       [35.    ,  6.1306],\n",
       "       [35.    ,  5.589 ],\n",
       "       [35.    ,  6.0532],\n",
       "       [35.    ,  6.09  ],\n",
       "       [36.    ,  5.8515],\n",
       "       [36.    ,  6.1984],\n",
       "       [37.    ,  6.603 ],\n",
       "       [38.5   ,  6.3063],\n",
       "       [38.5   ,  6.292 ],\n",
       "       [39.5   ,  6.7497],\n",
       "       [41.    ,  6.7473],\n",
       "       [41.    ,  6.3705],\n",
       "       [14.1   ,  2.268 ],\n",
       "       [18.2   ,  2.8217],\n",
       "       [18.8   ,  2.9044],\n",
       "       [19.8   ,  3.1746],\n",
       "       [20.    ,  3.5742],\n",
       "       [20.5   ,  3.3516],\n",
       "       [20.8   ,  3.3957],\n",
       "       [21.    ,  3.2943],\n",
       "       [22.    ,  3.7544],\n",
       "       [22.    ,  3.5478],\n",
       "       [22.5   ,  3.8203],\n",
       "       [22.5   ,  3.325 ],\n",
       "       [22.5   ,  3.8   ],\n",
       "       [24.    ,  3.8352],\n",
       "       [23.4   ,  3.6312],\n",
       "       [23.5   ,  4.1272],\n",
       "       [25.2   ,  3.906 ],\n",
       "       [26.    ,  4.4968],\n",
       "       [27.    ,  4.7736],\n",
       "       [31.7   ,  5.355 ],\n",
       "       [26.    ,  4.2476],\n",
       "       [26.5   ,  4.2485],\n",
       "       [28.    ,  4.6816],\n",
       "       [31.    ,  6.562 ],\n",
       "       [36.4   ,  6.5736],\n",
       "       [40.    ,  6.525 ],\n",
       "       [14.7   ,  2.3265],\n",
       "       [15.5   ,  2.3142],\n",
       "       [17.7   ,  2.673 ],\n",
       "       [19.    ,  2.9181],\n",
       "       [20.    ,  3.2928],\n",
       "       [20.7   ,  3.2944],\n",
       "       [20.7   ,  3.4104],\n",
       "       [21.5   ,  3.1571],\n",
       "       [23.    ,  3.6636],\n",
       "       [25.    ,  4.144 ],\n",
       "       [26.    ,  4.234 ],\n",
       "       [ 8.4   ,  1.408 ],\n",
       "       [13.7   ,  1.9992],\n",
       "       [15.    ,  2.432 ],\n",
       "       [16.2   ,  2.6316],\n",
       "       [17.4   ,  2.9415],\n",
       "       [18.    ,  3.3216],\n",
       "       [18.7   ,  3.1234],\n",
       "       [19.    ,  3.0502],\n",
       "       [19.6   ,  3.0368],\n",
       "       [20.    ,  2.772 ],\n",
       "       [21.    ,  3.555 ],\n",
       "       [21.    ,  3.3075],\n",
       "       [21.    ,  3.6675],\n",
       "       [21.3   ,  3.534 ],\n",
       "       [22.    ,  3.4075],\n",
       "       [22.    ,  3.525 ],\n",
       "       [22.    ,  3.525 ],\n",
       "       [22.    ,  3.525 ],\n",
       "       [22.    ,  3.995 ],\n",
       "       [22.5   ,  3.624 ],\n",
       "       [22.5   ,  3.624 ],\n",
       "       [22.7   ,  3.63  ],\n",
       "       [23.    ,  3.626 ],\n",
       "       [23.5   ,  3.725 ],\n",
       "       [24.    ,  3.723 ],\n",
       "       [24.    ,  3.825 ],\n",
       "       [24.6   ,  4.1658],\n",
       "       [25.    ,  3.6835],\n",
       "       [25.6   ,  4.239 ],\n",
       "       [26.5   ,  4.144 ],\n",
       "       [27.3   ,  5.1373],\n",
       "       [27.5   ,  4.335 ],\n",
       "       [27.5   ,  4.335 ],\n",
       "       [27.5   ,  4.5662],\n",
       "       [28.    ,  4.2042],\n",
       "       [28.7   ,  4.6354],\n",
       "       [30.    ,  4.7716],\n",
       "       [32.8   ,  6.018 ],\n",
       "       [34.5   ,  6.3875],\n",
       "       [35.    ,  7.7957],\n",
       "       [36.5   ,  6.864 ],\n",
       "       [36.    ,  6.7408],\n",
       "       [37.    ,  6.2646],\n",
       "       [37.    ,  6.3666],\n",
       "       [39.    ,  7.4934],\n",
       "       [39.    ,  6.003 ],\n",
       "       [39.    ,  7.3514],\n",
       "       [40.    ,  7.1064],\n",
       "       [40.    ,  7.225 ],\n",
       "       [40.    ,  7.4624],\n",
       "       [40.    ,  6.63  ],\n",
       "       [42.    ,  6.8684],\n",
       "       [43.    ,  7.2772],\n",
       "       [43.    ,  7.4165],\n",
       "       [43.5   ,  8.142 ],\n",
       "       [44.    ,  7.5958],\n",
       "       [32.3   ,  3.3756],\n",
       "       [34.    ,  4.158 ],\n",
       "       [35.    ,  4.3844],\n",
       "       [37.3   ,  4.0198],\n",
       "       [38.    ,  4.5765],\n",
       "       [38.5   ,  3.977 ],\n",
       "       [42.5   ,  4.3225],\n",
       "       [42.5   ,  4.459 ],\n",
       "       [43.    ,  5.1296],\n",
       "       [45.    ,  4.896 ],\n",
       "       [46.    ,  4.87  ],\n",
       "       [48.    ,  5.376 ],\n",
       "       [51.7   ,  6.1712],\n",
       "       [56.    ,  6.9849],\n",
       "       [60.    ,  6.144 ],\n",
       "       [60.    ,  6.144 ],\n",
       "       [63.4   ,  7.48  ],\n",
       "       [ 9.8   ,  1.0476],\n",
       "       [10.5   ,  1.16  ],\n",
       "       [10.6   ,  1.1484],\n",
       "       [11.    ,  1.38  ],\n",
       "       [11.2   ,  1.2772],\n",
       "       [11.3   ,  1.2852],\n",
       "       [11.8   ,  1.2838],\n",
       "       [11.8   ,  1.1659],\n",
       "       [12.    ,  1.1484],\n",
       "       [12.2   ,  1.3936],\n",
       "       [12.4   ,  1.269 ],\n",
       "       [13.    ,  1.2558],\n",
       "       [14.3   ,  2.0672],\n",
       "       [15.    ,  1.8792]])"
      ]
     },
     "execution_count": 28,
     "metadata": {},
     "output_type": "execute_result"
    }
   ],
   "source": [
    "x=FishingData[:,2:6:2]\n",
    "x"
   ]
  },
  {
   "cell_type": "code",
   "execution_count": 29,
   "metadata": {},
   "outputs": [
    {
     "data": {
      "text/plain": [
       "array([ 242. ,  290. ,  340. ,  363. ,  430. ,  450. ,  500. ,  390. ,\n",
       "        450. ,  500. ,  475. ,  500. ,  500. ,  340. ,  600. ,  600. ,\n",
       "        700. ,  700. ,  610. ,  650. ,  575. ,  685. ,  620. ,  680. ,\n",
       "        700. ,  725. ,  720. ,  714. ,  850. , 1000. ,  920. ,  955. ,\n",
       "        925. ,  975. ,  950. ,   40. ,   69. ,   78. ,   87. ,  120. ,\n",
       "          0. ,  110. ,  120. ,  150. ,  145. ,  160. ,  140. ,  160. ,\n",
       "        169. ,  161. ,  200. ,  180. ,  290. ,  272. ,  390. ,  270. ,\n",
       "        270. ,  306. ,  540. ,  800. , 1000. ,   55. ,   60. ,   90. ,\n",
       "        120. ,  150. ,  140. ,  170. ,  145. ,  200. ,  273. ,  300. ,\n",
       "          5.9,   32. ,   40. ,   51.5,   70. ,  100. ,   78. ,   80. ,\n",
       "         85. ,   85. ,  110. ,  115. ,  125. ,  130. ,  120. ,  120. ,\n",
       "        130. ,  135. ,  110. ,  130. ,  150. ,  145. ,  150. ,  170. ,\n",
       "        225. ,  145. ,  188. ,  180. ,  197. ,  218. ,  300. ,  260. ,\n",
       "        265. ,  250. ,  250. ,  300. ,  320. ,  514. ,  556. ,  840. ,\n",
       "        685. ,  700. ,  700. ,  690. ,  900. ,  650. ,  820. ,  850. ,\n",
       "        900. , 1015. ,  820. , 1100. , 1000. , 1100. , 1000. , 1000. ,\n",
       "        200. ,  300. ,  300. ,  300. ,  430. ,  345. ,  456. ,  510. ,\n",
       "        540. ,  500. ,  567. ,  770. ,  950. , 1250. , 1600. , 1550. ,\n",
       "       1650. ,    6.7,    7.5,    7. ,    9.7,    9.8,    8.7,   10. ,\n",
       "          9.9,    9.8,   12.2,   13.4,   12.2,   19.7,   19.9])"
      ]
     },
     "execution_count": 29,
     "metadata": {},
     "output_type": "execute_result"
    }
   ],
   "source": [
    "y=FishingData[:,1]\n",
    "y"
   ]
  },
  {
   "cell_type": "code",
   "execution_count": 30,
   "metadata": {},
   "outputs": [
    {
     "data": {
      "text/plain": [
       "LinearRegression(copy_X=True, fit_intercept=True, n_jobs=None, normalize=False)"
      ]
     },
     "execution_count": 30,
     "metadata": {},
     "output_type": "execute_result"
    }
   ],
   "source": [
    "FishingData=sk.linear_model.LinearRegression()\n",
    "FishingData.fit(x,y)"
   ]
  },
  {
   "cell_type": "code",
   "execution_count": 31,
   "metadata": {},
   "outputs": [
    {
     "data": {
      "text/plain": [
       "array([20.33385731, 75.33532163])"
      ]
     },
     "execution_count": 31,
     "metadata": {},
     "output_type": "execute_result"
    }
   ],
   "source": [
    "FishingData.coef_"
   ]
  },
  {
   "cell_type": "code",
   "execution_count": 32,
   "metadata": {},
   "outputs": [
    {
     "data": {
      "text/plain": [
       "-512.2675407788117"
      ]
     },
     "execution_count": 32,
     "metadata": {},
     "output_type": "execute_result"
    }
   ],
   "source": [
    "FishingData.intercept_"
   ]
  },
  {
   "cell_type": "code",
   "execution_count": 33,
   "metadata": {},
   "outputs": [
    {
     "data": {
      "text/plain": [
       "0.8736774559544478"
      ]
     },
     "execution_count": 33,
     "metadata": {},
     "output_type": "execute_result"
    }
   ],
   "source": [
    "FishingData.score(x,y)"
   ]
  },
  {
   "cell_type": "code",
   "execution_count": 18,
   "metadata": {},
   "outputs": [],
   "source": [
    "def regressionMetrics(x, y):\n",
    "    \"\"\" Uses linaer_model.LinearRegression class to find the regression model using x, y data.\n",
    "        Function returns SSR, SSE, SST, r^2 calculated as SSR/SST and r^2 from regression model \n",
    "    \"\"\"\n",
    "    regModel=linear_model.LinearRegression()\n",
    "    regModel.fit(x,y)\n",
    "    y_hat=regModel.predict(x)\n",
    "    y_mean=np.mean(y)\n",
    "    ssr = np.sum(np.square(y_hat-y_mean))\n",
    "    sse = np.sum(np.square(y-y_hat))\n",
    "    sst = np.sum(np.square(y-y_mean))\n",
    "    r_squared=ssr/sst\n",
    "    score=regModel.score(x, y)\n",
    "    return ssr, sse, sst, r_squared, score"
   ]
  },
  {
   "cell_type": "code",
   "execution_count": 34,
   "metadata": {},
   "outputs": [],
   "source": [
    "ssr, sse, sst, r_squared, score =  regressionMetrics(x,y)"
   ]
  },
  {
   "cell_type": "code",
   "execution_count": 35,
   "metadata": {},
   "outputs": [
    {
     "data": {
      "text/plain": [
       "17689748.5289952"
      ]
     },
     "execution_count": 35,
     "metadata": {},
     "output_type": "execute_result"
    }
   ],
   "source": [
    "ssr"
   ]
  },
  {
   "cell_type": "code",
   "execution_count": 36,
   "metadata": {},
   "outputs": [
    {
     "data": {
      "text/plain": [
       "2557710.540061416"
      ]
     },
     "execution_count": 36,
     "metadata": {},
     "output_type": "execute_result"
    }
   ],
   "source": [
    "sse"
   ]
  },
  {
   "cell_type": "code",
   "execution_count": 37,
   "metadata": {},
   "outputs": [
    {
     "data": {
      "text/plain": [
       "20247459.069056604"
      ]
     },
     "execution_count": 37,
     "metadata": {},
     "output_type": "execute_result"
    }
   ],
   "source": [
    "sst"
   ]
  },
  {
   "cell_type": "code",
   "execution_count": 38,
   "metadata": {},
   "outputs": [
    {
     "data": {
      "text/plain": [
       "0.8736774559544486"
      ]
     },
     "execution_count": 38,
     "metadata": {},
     "output_type": "execute_result"
    }
   ],
   "source": [
    "r_squared"
   ]
  },
  {
   "cell_type": "code",
   "execution_count": 39,
   "metadata": {},
   "outputs": [
    {
     "data": {
      "text/plain": [
       "0.8736774559544478"
      ]
     },
     "execution_count": 39,
     "metadata": {},
     "output_type": "execute_result"
    }
   ],
   "source": [
    "score"
   ]
  },
  {
   "cell_type": "code",
   "execution_count": null,
   "metadata": {},
   "outputs": [],
   "source": []
  }
 ],
 "metadata": {
  "kernelspec": {
   "display_name": "Python 3",
   "language": "python",
   "name": "python3"
  },
  "language_info": {
   "codemirror_mode": {
    "name": "ipython",
    "version": 3
   },
   "file_extension": ".py",
   "mimetype": "text/x-python",
   "name": "python",
   "nbconvert_exporter": "python",
   "pygments_lexer": "ipython3",
   "version": "3.7.4"
  }
 },
 "nbformat": 4,
 "nbformat_minor": 2
}

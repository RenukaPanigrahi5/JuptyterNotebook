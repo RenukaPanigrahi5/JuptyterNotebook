{
 "cells": [
  {
   "cell_type": "code",
   "execution_count": 1,
   "metadata": {},
   "outputs": [],
   "source": [
    "import numpy as np\n",
    "import sklearn as sk\n",
    "import matplotlib.pyplot as plt\n",
    "from sklearn import linear_model"
   ]
  },
  {
   "cell_type": "code",
   "execution_count": 2,
   "metadata": {},
   "outputs": [
    {
     "data": {
      "text/plain": [
       "array([[    nan, 14.1   ,  0.86  ,  0.9853, 13.6   ],\n",
       "       [    nan, 16.    ,  1.06  ,  1.0938, 16.6   ],\n",
       "       [    nan, 29.8   ,  2.03  ,  1.165 , 23.5   ],\n",
       "       [    nan,  8.    ,  0.67  ,  0.928 , 10.2   ],\n",
       "       [    nan,  4.1   ,  0.4   ,  0.9462,  5.4   ],\n",
       "       [    nan, 15.    ,  1.04  ,  0.8885, 15.    ],\n",
       "       [    nan,  8.8   ,  0.76  ,  1.0267,  9.    ],\n",
       "       [    nan, 12.4   ,  0.95  ,  0.9225, 12.3   ],\n",
       "       [    nan, 16.6   ,  1.12  ,  0.9372, 16.3   ],\n",
       "       [    nan, 14.9   ,  1.02  ,  0.8858, 15.4   ],\n",
       "       [    nan, 13.7   ,  1.01  ,  0.9643, 13.    ],\n",
       "       [    nan, 15.1   ,  0.9   ,  0.9316, 14.4   ],\n",
       "       [    nan,  7.8   ,  0.57  ,  0.9705, 10.    ],\n",
       "       [    nan, 11.4   ,  0.78  ,  1.124 , 10.2   ],\n",
       "       [    nan,  9.    ,  0.74  ,  0.8517,  9.5   ],\n",
       "       [    nan,  1.    ,  0.13  ,  0.7851,  1.5   ],\n",
       "       [    nan, 17.    ,  1.26  ,  0.9186, 18.5   ],\n",
       "       [    nan, 12.8   ,  1.08  ,  1.0395, 12.6   ],\n",
       "       [    nan, 15.8   ,  0.96  ,  0.9573, 17.5   ],\n",
       "       [    nan,  4.5   ,  0.42  ,  0.9106,  4.9   ],\n",
       "       [    nan, 14.5   ,  1.01  ,  1.007 , 15.9   ],\n",
       "       [    nan,  7.3   ,  0.61  ,  0.9806,  8.5   ],\n",
       "       [    nan,  8.6   ,  0.69  ,  0.9693, 10.6   ],\n",
       "       [    nan, 15.2   ,  1.02  ,  0.9496, 13.9   ],\n",
       "       [    nan, 12.    ,  0.82  ,  1.1184, 14.9   ]])"
      ]
     },
     "execution_count": 2,
     "metadata": {},
     "output_type": "execute_result"
    }
   ],
   "source": [
    "cigData=np.genfromtxt('cigarettes_multi_regression.csv',delimiter=',', skip_header=1) \n",
    "cigData"
   ]
  },
  {
   "cell_type": "code",
   "execution_count": 4,
   "metadata": {},
   "outputs": [
    {
     "data": {
      "text/plain": [
       "(25, 2)"
      ]
     },
     "execution_count": 4,
     "metadata": {},
     "output_type": "execute_result"
    }
   ],
   "source": [
    "cigX=cigData[:,1:3]\n",
    "cigX.shape"
   ]
  },
  {
   "cell_type": "code",
   "execution_count": 5,
   "metadata": {},
   "outputs": [
    {
     "data": {
      "text/plain": [
       "(25,)"
      ]
     },
     "execution_count": 5,
     "metadata": {},
     "output_type": "execute_result"
    }
   ],
   "source": [
    "cigY=cigData[:,4]\n",
    "cigY.shape"
   ]
  },
  {
   "cell_type": "code",
   "execution_count": 6,
   "metadata": {},
   "outputs": [
    {
     "data": {
      "text/plain": [
       "LinearRegression(copy_X=True, fit_intercept=True, n_jobs=None, normalize=False)"
      ]
     },
     "execution_count": 6,
     "metadata": {},
     "output_type": "execute_result"
    }
   ],
   "source": [
    "regCig=sk.linear_model.LinearRegression()\n",
    "regCig.fit(cigX,cigY)"
   ]
  },
  {
   "cell_type": "code",
   "execution_count": 7,
   "metadata": {},
   "outputs": [
    {
     "data": {
      "text/plain": [
       "array([ 0.9624741 , -2.64627213])"
      ]
     },
     "execution_count": 7,
     "metadata": {},
     "output_type": "execute_result"
    }
   ],
   "source": [
    "regCig.coef_"
   ]
  },
  {
   "cell_type": "code",
   "execution_count": 8,
   "metadata": {},
   "outputs": [
    {
     "data": {
      "text/plain": [
       "3.0896092639396855"
      ]
     },
     "execution_count": 8,
     "metadata": {},
     "output_type": "execute_result"
    }
   ],
   "source": [
    "regCig.intercept_"
   ]
  },
  {
   "cell_type": "code",
   "execution_count": 9,
   "metadata": {},
   "outputs": [
    {
     "data": {
      "text/plain": [
       "0.918584975710395"
      ]
     },
     "execution_count": 9,
     "metadata": {},
     "output_type": "execute_result"
    }
   ],
   "source": [
    "regCig.score(cigX, cigY)"
   ]
  },
  {
   "cell_type": "code",
   "execution_count": null,
   "metadata": {},
   "outputs": [],
   "source": []
  }
 ],
 "metadata": {
  "kernelspec": {
   "display_name": "Python 3",
   "language": "python",
   "name": "python3"
  },
  "language_info": {
   "codemirror_mode": {
    "name": "ipython",
    "version": 3
   },
   "file_extension": ".py",
   "mimetype": "text/x-python",
   "name": "python",
   "nbconvert_exporter": "python",
   "pygments_lexer": "ipython3",
   "version": "3.7.4"
  }
 },
 "nbformat": 4,
 "nbformat_minor": 2
}
